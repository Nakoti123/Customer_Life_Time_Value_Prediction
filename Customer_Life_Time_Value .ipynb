{
  "nbformat": 4,
  "nbformat_minor": 0,
  "metadata": {
    "colab": {
      "provenance": []
    },
    "kernelspec": {
      "name": "python3",
      "display_name": "Python 3"
    },
    "language_info": {
      "name": "python"
    }
  },
  "cells": [
    {
      "cell_type": "markdown",
      "source": [
        "**Problem Statement**\n",
        "\n",
        "Problem Description : To predict the Customer life time value for an auto insurance company based on different quantitative and qualitative features provided.\n",
        "\n",
        "\n",
        "Forecasting is an important approach to take an optimal decision and implement appropriate action plans. A major non-life insurance company wants to evaluate customer life time value based on each customer’s demographics and policy information including claim details. The CLV is a profitability metric in terms of a value placed by the company on each customer and can be conceived in two dimensions: the customer`s present Value and potential future Value.\n",
        "\n",
        "You are expected to create an analytical and modelling framework to predict the life time value of each customer based on the quantitative and qualitative features provided in the dataset and also cluster the train dataset to understand behaviour of each segment."
      ],
      "metadata": {
        "id": "pqex1pqgonv_"
      }
    },
    {
      "cell_type": "markdown",
      "source": [
        "If y data is skewd do transfromation  and whike testing do exponential"
      ],
      "metadata": {
        "id": "FqBRlkSwaQqi"
      }
    },
    {
      "cell_type": "markdown",
      "source": [
        "Importing relevant packages and libraries"
      ],
      "metadata": {
        "id": "ilyTHLk8o1D2"
      }
    },
    {
      "cell_type": "code",
      "source": [
        "import numpy as np\n",
        "import pandas as pd\n",
        "import matplotlib.pyplot as plt\n",
        "import seaborn as sns"
      ],
      "metadata": {
        "id": "c6Q1wkYjbMlG"
      },
      "execution_count": null,
      "outputs": []
    },
    {
      "cell_type": "markdown",
      "source": [
        "Loading Train Dataset\n"
      ],
      "metadata": {
        "id": "nYeWs4QCpWTW"
      }
    },
    {
      "cell_type": "code",
      "source": [
        "train=pd.read_csv(\"train-1574429526318.csv\")\n",
        "train.head()\n"
      ],
      "metadata": {
        "id": "aSB7Ex5DbNoD",
        "colab": {
          "base_uri": "https://localhost:8080/",
          "height": 404
        },
        "outputId": "a169a02a-f2ac-4a13-a37b-62490d18a83f"
      },
      "execution_count": null,
      "outputs": [
        {
          "output_type": "execute_result",
          "data": {
            "text/plain": [
              "   CustomerID  Customer.Lifetime.Value Coverage             Education  \\\n",
              "0        5917              7824.372789    Basic              Bachelor   \n",
              "1        2057              8005.964669    Basic               College   \n",
              "2        4119              8646.504109    Basic  High School or Below   \n",
              "3        1801              9294.088719    Basic               College   \n",
              "4        9618              5595.971365    Basic              Bachelor   \n",
              "\n",
              "  EmploymentStatus Gender Income Location.Geo Location.Code Marital.Status  \\\n",
              "0       Unemployed      F      0    17.7,77.7         Urban        Married   \n",
              "1         Employed      M  63357    28.8,76.6      Suburban        Married   \n",
              "2         Employed      F  64125    21.6,88.4         Urban        Married   \n",
              "3         Employed      M  67544      19,72.5      Suburban        Married   \n",
              "4          Retired      F  19651    19.1,74.7      Suburban        Married   \n",
              "\n",
              "   ...  Months.Since.Policy.Inception  Number.of.Open.Complaints  \\\n",
              "0  ...                             33                        NaN   \n",
              "1  ...                             42                        0.0   \n",
              "2  ...                             44                        0.0   \n",
              "3  ...                             15                        NaN   \n",
              "4  ...                             68                        0.0   \n",
              "\n",
              "   Number.of.Policies     Policy.Type        Policy Renew.Offer.Type  \\\n",
              "0                 2.0   Personal Auto   Personal L2           Offer2   \n",
              "1                 5.0   Personal Auto   Personal L2           Offer2   \n",
              "2                 3.0   Personal Auto   Personal L1           Offer2   \n",
              "3                 3.0  Corporate Auto  Corporate L3           Offer1   \n",
              "4                 5.0   Personal Auto   Personal L1           Offer2   \n",
              "\n",
              "  Sales.Channel Total.Claim.Amount  Vehicle.Class  Vehicle.Size  \n",
              "0        Branch         267.214383  Four-Door Car           2.0  \n",
              "1         Agent         565.508572            SUV           2.0  \n",
              "2        Branch         369.818708            SUV           1.0  \n",
              "3        Branch         556.800000            SUV           3.0  \n",
              "4           Web         345.600000   Two-Door Car           3.0  \n",
              "\n",
              "[5 rows x 22 columns]"
            ],
            "text/html": [
              "\n",
              "  <div id=\"df-ab3bea14-b18f-4054-84d7-1e95d2a6a50a\">\n",
              "    <div class=\"colab-df-container\">\n",
              "      <div>\n",
              "<style scoped>\n",
              "    .dataframe tbody tr th:only-of-type {\n",
              "        vertical-align: middle;\n",
              "    }\n",
              "\n",
              "    .dataframe tbody tr th {\n",
              "        vertical-align: top;\n",
              "    }\n",
              "\n",
              "    .dataframe thead th {\n",
              "        text-align: right;\n",
              "    }\n",
              "</style>\n",
              "<table border=\"1\" class=\"dataframe\">\n",
              "  <thead>\n",
              "    <tr style=\"text-align: right;\">\n",
              "      <th></th>\n",
              "      <th>CustomerID</th>\n",
              "      <th>Customer.Lifetime.Value</th>\n",
              "      <th>Coverage</th>\n",
              "      <th>Education</th>\n",
              "      <th>EmploymentStatus</th>\n",
              "      <th>Gender</th>\n",
              "      <th>Income</th>\n",
              "      <th>Location.Geo</th>\n",
              "      <th>Location.Code</th>\n",
              "      <th>Marital.Status</th>\n",
              "      <th>...</th>\n",
              "      <th>Months.Since.Policy.Inception</th>\n",
              "      <th>Number.of.Open.Complaints</th>\n",
              "      <th>Number.of.Policies</th>\n",
              "      <th>Policy.Type</th>\n",
              "      <th>Policy</th>\n",
              "      <th>Renew.Offer.Type</th>\n",
              "      <th>Sales.Channel</th>\n",
              "      <th>Total.Claim.Amount</th>\n",
              "      <th>Vehicle.Class</th>\n",
              "      <th>Vehicle.Size</th>\n",
              "    </tr>\n",
              "  </thead>\n",
              "  <tbody>\n",
              "    <tr>\n",
              "      <th>0</th>\n",
              "      <td>5917</td>\n",
              "      <td>7824.372789</td>\n",
              "      <td>Basic</td>\n",
              "      <td>Bachelor</td>\n",
              "      <td>Unemployed</td>\n",
              "      <td>F</td>\n",
              "      <td>0</td>\n",
              "      <td>17.7,77.7</td>\n",
              "      <td>Urban</td>\n",
              "      <td>Married</td>\n",
              "      <td>...</td>\n",
              "      <td>33</td>\n",
              "      <td>NaN</td>\n",
              "      <td>2.0</td>\n",
              "      <td>Personal Auto</td>\n",
              "      <td>Personal L2</td>\n",
              "      <td>Offer2</td>\n",
              "      <td>Branch</td>\n",
              "      <td>267.214383</td>\n",
              "      <td>Four-Door Car</td>\n",
              "      <td>2.0</td>\n",
              "    </tr>\n",
              "    <tr>\n",
              "      <th>1</th>\n",
              "      <td>2057</td>\n",
              "      <td>8005.964669</td>\n",
              "      <td>Basic</td>\n",
              "      <td>College</td>\n",
              "      <td>Employed</td>\n",
              "      <td>M</td>\n",
              "      <td>63357</td>\n",
              "      <td>28.8,76.6</td>\n",
              "      <td>Suburban</td>\n",
              "      <td>Married</td>\n",
              "      <td>...</td>\n",
              "      <td>42</td>\n",
              "      <td>0.0</td>\n",
              "      <td>5.0</td>\n",
              "      <td>Personal Auto</td>\n",
              "      <td>Personal L2</td>\n",
              "      <td>Offer2</td>\n",
              "      <td>Agent</td>\n",
              "      <td>565.508572</td>\n",
              "      <td>SUV</td>\n",
              "      <td>2.0</td>\n",
              "    </tr>\n",
              "    <tr>\n",
              "      <th>2</th>\n",
              "      <td>4119</td>\n",
              "      <td>8646.504109</td>\n",
              "      <td>Basic</td>\n",
              "      <td>High School or Below</td>\n",
              "      <td>Employed</td>\n",
              "      <td>F</td>\n",
              "      <td>64125</td>\n",
              "      <td>21.6,88.4</td>\n",
              "      <td>Urban</td>\n",
              "      <td>Married</td>\n",
              "      <td>...</td>\n",
              "      <td>44</td>\n",
              "      <td>0.0</td>\n",
              "      <td>3.0</td>\n",
              "      <td>Personal Auto</td>\n",
              "      <td>Personal L1</td>\n",
              "      <td>Offer2</td>\n",
              "      <td>Branch</td>\n",
              "      <td>369.818708</td>\n",
              "      <td>SUV</td>\n",
              "      <td>1.0</td>\n",
              "    </tr>\n",
              "    <tr>\n",
              "      <th>3</th>\n",
              "      <td>1801</td>\n",
              "      <td>9294.088719</td>\n",
              "      <td>Basic</td>\n",
              "      <td>College</td>\n",
              "      <td>Employed</td>\n",
              "      <td>M</td>\n",
              "      <td>67544</td>\n",
              "      <td>19,72.5</td>\n",
              "      <td>Suburban</td>\n",
              "      <td>Married</td>\n",
              "      <td>...</td>\n",
              "      <td>15</td>\n",
              "      <td>NaN</td>\n",
              "      <td>3.0</td>\n",
              "      <td>Corporate Auto</td>\n",
              "      <td>Corporate L3</td>\n",
              "      <td>Offer1</td>\n",
              "      <td>Branch</td>\n",
              "      <td>556.800000</td>\n",
              "      <td>SUV</td>\n",
              "      <td>3.0</td>\n",
              "    </tr>\n",
              "    <tr>\n",
              "      <th>4</th>\n",
              "      <td>9618</td>\n",
              "      <td>5595.971365</td>\n",
              "      <td>Basic</td>\n",
              "      <td>Bachelor</td>\n",
              "      <td>Retired</td>\n",
              "      <td>F</td>\n",
              "      <td>19651</td>\n",
              "      <td>19.1,74.7</td>\n",
              "      <td>Suburban</td>\n",
              "      <td>Married</td>\n",
              "      <td>...</td>\n",
              "      <td>68</td>\n",
              "      <td>0.0</td>\n",
              "      <td>5.0</td>\n",
              "      <td>Personal Auto</td>\n",
              "      <td>Personal L1</td>\n",
              "      <td>Offer2</td>\n",
              "      <td>Web</td>\n",
              "      <td>345.600000</td>\n",
              "      <td>Two-Door Car</td>\n",
              "      <td>3.0</td>\n",
              "    </tr>\n",
              "  </tbody>\n",
              "</table>\n",
              "<p>5 rows × 22 columns</p>\n",
              "</div>\n",
              "      <button class=\"colab-df-convert\" onclick=\"convertToInteractive('df-ab3bea14-b18f-4054-84d7-1e95d2a6a50a')\"\n",
              "              title=\"Convert this dataframe to an interactive table.\"\n",
              "              style=\"display:none;\">\n",
              "        \n",
              "  <svg xmlns=\"http://www.w3.org/2000/svg\" height=\"24px\"viewBox=\"0 0 24 24\"\n",
              "       width=\"24px\">\n",
              "    <path d=\"M0 0h24v24H0V0z\" fill=\"none\"/>\n",
              "    <path d=\"M18.56 5.44l.94 2.06.94-2.06 2.06-.94-2.06-.94-.94-2.06-.94 2.06-2.06.94zm-11 1L8.5 8.5l.94-2.06 2.06-.94-2.06-.94L8.5 2.5l-.94 2.06-2.06.94zm10 10l.94 2.06.94-2.06 2.06-.94-2.06-.94-.94-2.06-.94 2.06-2.06.94z\"/><path d=\"M17.41 7.96l-1.37-1.37c-.4-.4-.92-.59-1.43-.59-.52 0-1.04.2-1.43.59L10.3 9.45l-7.72 7.72c-.78.78-.78 2.05 0 2.83L4 21.41c.39.39.9.59 1.41.59.51 0 1.02-.2 1.41-.59l7.78-7.78 2.81-2.81c.8-.78.8-2.07 0-2.86zM5.41 20L4 18.59l7.72-7.72 1.47 1.35L5.41 20z\"/>\n",
              "  </svg>\n",
              "      </button>\n",
              "      \n",
              "  <style>\n",
              "    .colab-df-container {\n",
              "      display:flex;\n",
              "      flex-wrap:wrap;\n",
              "      gap: 12px;\n",
              "    }\n",
              "\n",
              "    .colab-df-convert {\n",
              "      background-color: #E8F0FE;\n",
              "      border: none;\n",
              "      border-radius: 50%;\n",
              "      cursor: pointer;\n",
              "      display: none;\n",
              "      fill: #1967D2;\n",
              "      height: 32px;\n",
              "      padding: 0 0 0 0;\n",
              "      width: 32px;\n",
              "    }\n",
              "\n",
              "    .colab-df-convert:hover {\n",
              "      background-color: #E2EBFA;\n",
              "      box-shadow: 0px 1px 2px rgba(60, 64, 67, 0.3), 0px 1px 3px 1px rgba(60, 64, 67, 0.15);\n",
              "      fill: #174EA6;\n",
              "    }\n",
              "\n",
              "    [theme=dark] .colab-df-convert {\n",
              "      background-color: #3B4455;\n",
              "      fill: #D2E3FC;\n",
              "    }\n",
              "\n",
              "    [theme=dark] .colab-df-convert:hover {\n",
              "      background-color: #434B5C;\n",
              "      box-shadow: 0px 1px 3px 1px rgba(0, 0, 0, 0.15);\n",
              "      filter: drop-shadow(0px 1px 2px rgba(0, 0, 0, 0.3));\n",
              "      fill: #FFFFFF;\n",
              "    }\n",
              "  </style>\n",
              "\n",
              "      <script>\n",
              "        const buttonEl =\n",
              "          document.querySelector('#df-ab3bea14-b18f-4054-84d7-1e95d2a6a50a button.colab-df-convert');\n",
              "        buttonEl.style.display =\n",
              "          google.colab.kernel.accessAllowed ? 'block' : 'none';\n",
              "\n",
              "        async function convertToInteractive(key) {\n",
              "          const element = document.querySelector('#df-ab3bea14-b18f-4054-84d7-1e95d2a6a50a');\n",
              "          const dataTable =\n",
              "            await google.colab.kernel.invokeFunction('convertToInteractive',\n",
              "                                                     [key], {});\n",
              "          if (!dataTable) return;\n",
              "\n",
              "          const docLinkHtml = 'Like what you see? Visit the ' +\n",
              "            '<a target=\"_blank\" href=https://colab.research.google.com/notebooks/data_table.ipynb>data table notebook</a>'\n",
              "            + ' to learn more about interactive tables.';\n",
              "          element.innerHTML = '';\n",
              "          dataTable['output_type'] = 'display_data';\n",
              "          await google.colab.output.renderOutput(dataTable, element);\n",
              "          const docLink = document.createElement('div');\n",
              "          docLink.innerHTML = docLinkHtml;\n",
              "          element.appendChild(docLink);\n",
              "        }\n",
              "      </script>\n",
              "    </div>\n",
              "  </div>\n",
              "  "
            ]
          },
          "metadata": {},
          "execution_count": 3
        }
      ]
    },
    {
      "cell_type": "markdown",
      "source": [
        "EDA"
      ],
      "metadata": {
        "id": "s_A5mxpQpb5M"
      }
    },
    {
      "cell_type": "code",
      "source": [
        "train['Income']=train['Income'].replace('?', np.NaN)"
      ],
      "metadata": {
        "id": "xTjBVo8A0Y-X"
      },
      "execution_count": null,
      "outputs": []
    },
    {
      "cell_type": "code",
      "source": [
        "train['Income']=pd.to_numeric(train['Income'])\n"
      ],
      "metadata": {
        "id": "7qWtRXfhkstm"
      },
      "execution_count": null,
      "outputs": []
    },
    {
      "cell_type": "code",
      "source": [
        "train['Income']"
      ],
      "metadata": {
        "colab": {
          "base_uri": "https://localhost:8080/"
        },
        "id": "rWkOoO0CkQcU",
        "outputId": "bb7c2c5e-ebe0-4a71-f037-4422d6bb901d"
      },
      "execution_count": null,
      "outputs": [
        {
          "output_type": "execute_result",
          "data": {
            "text/plain": [
              "0           0\n",
              "1       63357\n",
              "2       64125\n",
              "3       67544\n",
              "4       19651\n",
              "        ...  \n",
              "9801        0\n",
              "9802    72421\n",
              "9803    74665\n",
              "9804    91763\n",
              "9805    18017\n",
              "Name: Income, Length: 9806, dtype: object"
            ]
          },
          "metadata": {},
          "execution_count": 11
        }
      ]
    },
    {
      "cell_type": "code",
      "source": [
        "train.hist(figsize=(10,10),color=\"b\")"
      ],
      "metadata": {
        "colab": {
          "base_uri": "https://localhost:8080/",
          "height": 833
        },
        "id": "qePIjIohpm_2",
        "outputId": "32671628-2819-450a-f076-eae4e37e42e6"
      },
      "execution_count": null,
      "outputs": [
        {
          "output_type": "execute_result",
          "data": {
            "text/plain": [
              "array([[<matplotlib.axes._subplots.AxesSubplot object at 0x7f08efd91ed0>,\n",
              "        <matplotlib.axes._subplots.AxesSubplot object at 0x7f08ef3ddb10>,\n",
              "        <matplotlib.axes._subplots.AxesSubplot object at 0x7f08ef32e5d0>],\n",
              "       [<matplotlib.axes._subplots.AxesSubplot object at 0x7f08ef2e5bd0>,\n",
              "        <matplotlib.axes._subplots.AxesSubplot object at 0x7f08ef2a8210>,\n",
              "        <matplotlib.axes._subplots.AxesSubplot object at 0x7f08ef260810>],\n",
              "       [<matplotlib.axes._subplots.AxesSubplot object at 0x7f08ef295e90>,\n",
              "        <matplotlib.axes._subplots.AxesSubplot object at 0x7f08ef259410>,\n",
              "        <matplotlib.axes._subplots.AxesSubplot object at 0x7f08ef259450>],\n",
              "       [<matplotlib.axes._subplots.AxesSubplot object at 0x7f08ef20fb50>,\n",
              "        <matplotlib.axes._subplots.AxesSubplot object at 0x7f08ef188690>,\n",
              "        <matplotlib.axes._subplots.AxesSubplot object at 0x7f08ef26e8d0>]],\n",
              "      dtype=object)"
            ]
          },
          "metadata": {},
          "execution_count": 7
        },
        {
          "output_type": "display_data",
          "data": {
            "text/plain": [
              "<Figure size 720x720 with 12 Axes>"
            ],
            "image/png": "[encoded data removed]"
          },
          "metadata": {
            "needs_background": "light"
          }
        }
      ]
    },
    {
      "cell_type": "code",
      "source": [
        "f, ax = plt.subplots(figsize=(10,10))\n",
        "mat = train.corr('pearson')#numpy.triu(a, k = 0) : Returns copy of array with upper part of the triangle w.r.t k\n",
        "mask = np.triu(np.ones_like(mat, dtype=bool))#function returns an array of given shape and type as a given array, with ones.\n",
        "cmap = sns.diverging_palette(230, 20, as_cmap=True)\n",
        "sns.heatmap(mat, mask=mask, cmap=cmap, vmax=1, center=1, annot = True,\n",
        "           square=True, linewidths=.5, cbar_kws={\"shrink\": .5})\n",
        "plt.show()"
      ],
      "metadata": {
        "colab": {
          "base_uri": "https://localhost:8080/",
          "height": 631
        },
        "id": "9yC4Dbtyp89W",
        "outputId": "08a03c5c-4b5d-4254-cc25-463ef4562067"
      },
      "execution_count": null,
      "outputs": [
        {
          "output_type": "display_data",
          "data": {
            "text/plain": [
              "<Figure size 720x720 with 2 Axes>"
            ],
            "image/png": "[encoded data removed]"
          },
          "metadata": {
            "needs_background": "light"
          }
        }
      ]
    },
    {
      "cell_type": "markdown",
      "source": [
        "Preprocessing"
      ],
      "metadata": {
        "id": "xByGzYQ-qGh1"
      }
    },
    {
      "cell_type": "code",
      "source": [
        "x=train.drop(['Customer.Lifetime.Value','Location.Code','Location.Geo'],axis=1)\n",
        "y=train['Customer.Lifetime.Value']"
      ],
      "metadata": {
        "id": "1fjLY7BMgKyZ"
      },
      "execution_count": null,
      "outputs": []
    },
    {
      "cell_type": "code",
      "source": [
        "new=x.drop('CustomerID',axis=1)"
      ],
      "metadata": {
        "id": "I__W_eE9f6Mc"
      },
      "execution_count": null,
      "outputs": []
    },
    {
      "cell_type": "markdown",
      "source": [
        "Dividing Numerical values and Categorical"
      ],
      "metadata": {
        "id": "CqiJIfQFqMzn"
      }
    },
    {
      "cell_type": "code",
      "source": [
        "numeric=new._get_numeric_data()                             \n",
        "#numeric.info()\n",
        "cat_train=new.drop(numeric,axis=1)\n",
        "cat_train=cat_train.astype('category')\n",
        "numeric.head()"
      ],
      "metadata": {
        "colab": {
          "base_uri": "https://localhost:8080/",
          "height": 206
        },
        "id": "tbb1pu4CbPgB",
        "outputId": "879c02cc-9a37-4243-815b-f18441c159c0"
      },
      "execution_count": null,
      "outputs": [
        {
          "output_type": "execute_result",
          "data": {
            "text/plain": [
              "    Income  Monthly.Premium.Auto  Months.Since.Last.Claim  \\\n",
              "0      0.0                  67.0                        2   \n",
              "1  63357.0                 101.0                       26   \n",
              "2  64125.0                 108.0                        3   \n",
              "3  67544.0                 116.0                        2   \n",
              "4  19651.0                  72.0                        3   \n",
              "\n",
              "   Months.Since.Policy.Inception  Number.of.Open.Complaints  \\\n",
              "0                             33                        NaN   \n",
              "1                             42                        0.0   \n",
              "2                             44                        0.0   \n",
              "3                             15                        NaN   \n",
              "4                             68                        0.0   \n",
              "\n",
              "   Number.of.Policies  Total.Claim.Amount  \n",
              "0                 2.0          267.214383  \n",
              "1                 5.0          565.508572  \n",
              "2                 3.0          369.818708  \n",
              "3                 3.0          556.800000  \n",
              "4                 5.0          345.600000  "
            ],
            "text/html": [
              "\n",
              "  <div id=\"df-0515c5d9-d1c6-44ca-87de-a924ea32a499\">\n",
              "    <div class=\"colab-df-container\">\n",
              "      <div>\n",
              "<style scoped>\n",
              "    .dataframe tbody tr th:only-of-type {\n",
              "        vertical-align: middle;\n",
              "    }\n",
              "\n",
              "    .dataframe tbody tr th {\n",
              "        vertical-align: top;\n",
              "    }\n",
              "\n",
              "    .dataframe thead th {\n",
              "        text-align: right;\n",
              "    }\n",
              "</style>\n",
              "<table border=\"1\" class=\"dataframe\">\n",
              "  <thead>\n",
              "    <tr style=\"text-align: right;\">\n",
              "      <th></th>\n",
              "      <th>Income</th>\n",
              "      <th>Monthly.Premium.Auto</th>\n",
              "      <th>Months.Since.Last.Claim</th>\n",
              "      <th>Months.Since.Policy.Inception</th>\n",
              "      <th>Number.of.Open.Complaints</th>\n",
              "      <th>Number.of.Policies</th>\n",
              "      <th>Total.Claim.Amount</th>\n",
              "    </tr>\n",
              "  </thead>\n",
              "  <tbody>\n",
              "    <tr>\n",
              "      <th>0</th>\n",
              "      <td>0.0</td>\n",
              "      <td>67.0</td>\n",
              "      <td>2</td>\n",
              "      <td>33</td>\n",
              "      <td>NaN</td>\n",
              "      <td>2.0</td>\n",
              "      <td>267.214383</td>\n",
              "    </tr>\n",
              "    <tr>\n",
              "      <th>1</th>\n",
              "      <td>63357.0</td>\n",
              "      <td>101.0</td>\n",
              "      <td>26</td>\n",
              "      <td>42</td>\n",
              "      <td>0.0</td>\n",
              "      <td>5.0</td>\n",
              "      <td>565.508572</td>\n",
              "    </tr>\n",
              "    <tr>\n",
              "      <th>2</th>\n",
              "      <td>64125.0</td>\n",
              "      <td>108.0</td>\n",
              "      <td>3</td>\n",
              "      <td>44</td>\n",
              "      <td>0.0</td>\n",
              "      <td>3.0</td>\n",
              "      <td>369.818708</td>\n",
              "    </tr>\n",
              "    <tr>\n",
              "      <th>3</th>\n",
              "      <td>67544.0</td>\n",
              "      <td>116.0</td>\n",
              "      <td>2</td>\n",
              "      <td>15</td>\n",
              "      <td>NaN</td>\n",
              "      <td>3.0</td>\n",
              "      <td>556.800000</td>\n",
              "    </tr>\n",
              "    <tr>\n",
              "      <th>4</th>\n",
              "      <td>19651.0</td>\n",
              "      <td>72.0</td>\n",
              "      <td>3</td>\n",
              "      <td>68</td>\n",
              "      <td>0.0</td>\n",
              "      <td>5.0</td>\n",
              "      <td>345.600000</td>\n",
              "    </tr>\n",
              "  </tbody>\n",
              "</table>\n",
              "</div>\n",
              "      <button class=\"colab-df-convert\" onclick=\"convertToInteractive('df-0515c5d9-d1c6-44ca-87de-a924ea32a499')\"\n",
              "              title=\"Convert this dataframe to an interactive table.\"\n",
              "              style=\"display:none;\">\n",
              "        \n",
              "  <svg xmlns=\"http://www.w3.org/2000/svg\" height=\"24px\"viewBox=\"0 0 24 24\"\n",
              "       width=\"24px\">\n",
              "    <path d=\"M0 0h24v24H0V0z\" fill=\"none\"/>\n",
              "    <path d=\"M18.56 5.44l.94 2.06.94-2.06 2.06-.94-2.06-.94-.94-2.06-.94 2.06-2.06.94zm-11 1L8.5 8.5l.94-2.06 2.06-.94-2.06-.94L8.5 2.5l-.94 2.06-2.06.94zm10 10l.94 2.06.94-2.06 2.06-.94-2.06-.94-.94-2.06-.94 2.06-2.06.94z\"/><path d=\"M17.41 7.96l-1.37-1.37c-.4-.4-.92-.59-1.43-.59-.52 0-1.04.2-1.43.59L10.3 9.45l-7.72 7.72c-.78.78-.78 2.05 0 2.83L4 21.41c.39.39.9.59 1.41.59.51 0 1.02-.2 1.41-.59l7.78-7.78 2.81-2.81c.8-.78.8-2.07 0-2.86zM5.41 20L4 18.59l7.72-7.72 1.47 1.35L5.41 20z\"/>\n",
              "  </svg>\n",
              "      </button>\n",
              "      \n",
              "  <style>\n",
              "    .colab-df-container {\n",
              "      display:flex;\n",
              "      flex-wrap:wrap;\n",
              "      gap: 12px;\n",
              "    }\n",
              "\n",
              "    .colab-df-convert {\n",
              "      background-color: #E8F0FE;\n",
              "      border: none;\n",
              "      border-radius: 50%;\n",
              "      cursor: pointer;\n",
              "      display: none;\n",
              "      fill: #1967D2;\n",
              "      height: 32px;\n",
              "      padding: 0 0 0 0;\n",
              "      width: 32px;\n",
              "    }\n",
              "\n",
              "    .colab-df-convert:hover {\n",
              "      background-color: #E2EBFA;\n",
              "      box-shadow: 0px 1px 2px rgba(60, 64, 67, 0.3), 0px 1px 3px 1px rgba(60, 64, 67, 0.15);\n",
              "      fill: #174EA6;\n",
              "    }\n",
              "\n",
              "    [theme=dark] .colab-df-convert {\n",
              "      background-color: #3B4455;\n",
              "      fill: #D2E3FC;\n",
              "    }\n",
              "\n",
              "    [theme=dark] .colab-df-convert:hover {\n",
              "      background-color: #434B5C;\n",
              "      box-shadow: 0px 1px 3px 1px rgba(0, 0, 0, 0.15);\n",
              "      filter: drop-shadow(0px 1px 2px rgba(0, 0, 0, 0.3));\n",
              "      fill: #FFFFFF;\n",
              "    }\n",
              "  </style>\n",
              "\n",
              "      <script>\n",
              "        const buttonEl =\n",
              "          document.querySelector('#df-0515c5d9-d1c6-44ca-87de-a924ea32a499 button.colab-df-convert');\n",
              "        buttonEl.style.display =\n",
              "          google.colab.kernel.accessAllowed ? 'block' : 'none';\n",
              "\n",
              "        async function convertToInteractive(key) {\n",
              "          const element = document.querySelector('#df-0515c5d9-d1c6-44ca-87de-a924ea32a499');\n",
              "          const dataTable =\n",
              "            await google.colab.kernel.invokeFunction('convertToInteractive',\n",
              "                                                     [key], {});\n",
              "          if (!dataTable) return;\n",
              "\n",
              "          const docLinkHtml = 'Like what you see? Visit the ' +\n",
              "            '<a target=\"_blank\" href=https://colab.research.google.com/notebooks/data_table.ipynb>data table notebook</a>'\n",
              "            + ' to learn more about interactive tables.';\n",
              "          element.innerHTML = '';\n",
              "          dataTable['output_type'] = 'display_data';\n",
              "          await google.colab.output.renderOutput(dataTable, element);\n",
              "          const docLink = document.createElement('div');\n",
              "          docLink.innerHTML = docLinkHtml;\n",
              "          element.appendChild(docLink);\n",
              "        }\n",
              "      </script>\n",
              "    </div>\n",
              "  </div>\n",
              "  "
            ]
          },
          "metadata": {},
          "execution_count": 11
        }
      ]
    },
    {
      "cell_type": "code",
      "source": [
        "cat_train.columns"
      ],
      "metadata": {
        "colab": {
          "base_uri": "https://localhost:8080/"
        },
        "id": "rw22_k262nq3",
        "outputId": "14fb466b-a500-48f3-a378-e901fcb7e7cc"
      },
      "execution_count": null,
      "outputs": [
        {
          "output_type": "execute_result",
          "data": {
            "text/plain": [
              "Index(['Coverage', 'Education', 'EmploymentStatus', 'Gender', 'Marital.Status',\n",
              "       'Policy.Type', 'Policy', 'Renew.Offer.Type', 'Sales.Channel',\n",
              "       'Vehicle.Class'],\n",
              "      dtype='object')"
            ]
          },
          "metadata": {},
          "execution_count": 12
        }
      ]
    },
    {
      "cell_type": "code",
      "source": [
        "cat_cols=['Coverage', 'Education', 'EmploymentStatus', 'Gender', 'Marital.Status',\n",
        "       'Policy.Type', 'Policy', 'Renew.Offer.Type', 'Sales.Channel',\n",
        "       'Vehicle.Class']"
      ],
      "metadata": {
        "id": "Q2hg6YLOrQWX"
      },
      "execution_count": null,
      "outputs": []
    },
    {
      "cell_type": "markdown",
      "source": [
        "Fill numerical null values with mean"
      ],
      "metadata": {
        "id": "dpI8szJxqYaz"
      }
    },
    {
      "cell_type": "code",
      "source": [
        "numeric=numeric.fillna(numeric.mean())"
      ],
      "metadata": {
        "id": "ph2zpPysybk-"
      },
      "execution_count": null,
      "outputs": []
    },
    {
      "cell_type": "code",
      "source": [
        "numeric.isnull().sum()"
      ],
      "metadata": {
        "colab": {
          "base_uri": "https://localhost:8080/"
        },
        "id": "M9HpvuL6yjKW",
        "outputId": "f2762c0f-cd39-4d12-a004-fe409dcd9bcc"
      },
      "execution_count": null,
      "outputs": [
        {
          "output_type": "execute_result",
          "data": {
            "text/plain": [
              "Income                           0\n",
              "Monthly.Premium.Auto             0\n",
              "Months.Since.Last.Claim          0\n",
              "Months.Since.Policy.Inception    0\n",
              "Number.of.Open.Complaints        0\n",
              "Number.of.Policies               0\n",
              "Total.Claim.Amount               0\n",
              "dtype: int64"
            ]
          },
          "metadata": {},
          "execution_count": 15
        }
      ]
    },
    {
      "cell_type": "markdown",
      "source": [
        "Imputing cat null values with Most_frequent"
      ],
      "metadata": {
        "id": "4_nBoTQMqhVA"
      }
    },
    {
      "cell_type": "code",
      "source": [
        "#cat_train=cat_train.fillna(cat_train.mode())\n",
        "from sklearn.impute import SimpleImputer\n",
        "im=SimpleImputer(strategy='most_frequent')\n",
        "m=im.fit_transform(cat_train)"
      ],
      "metadata": {
        "id": "CXHRVF0ql_Hv"
      },
      "execution_count": null,
      "outputs": []
    },
    {
      "cell_type": "code",
      "source": [
        "m.shape"
      ],
      "metadata": {
        "colab": {
          "base_uri": "https://localhost:8080/"
        },
        "id": "CfIPAr2qx38G",
        "outputId": "fc85fc07-d2d1-484b-a64d-eeb3c8fbb28e"
      },
      "execution_count": null,
      "outputs": [
        {
          "output_type": "execute_result",
          "data": {
            "text/plain": [
              "(9806, 10)"
            ]
          },
          "metadata": {},
          "execution_count": 17
        }
      ]
    },
    {
      "cell_type": "code",
      "source": [
        "cat_train=pd.DataFrame(m,columns=cat_cols)"
      ],
      "metadata": {
        "id": "umbXOWF4pNLR"
      },
      "execution_count": null,
      "outputs": []
    },
    {
      "cell_type": "code",
      "source": [
        "cat_train.isnull().sum()"
      ],
      "metadata": {
        "colab": {
          "base_uri": "https://localhost:8080/"
        },
        "id": "G1mCnN-0m_7T",
        "outputId": "6daccfda-e1dc-4b44-fabc-30b908a46030"
      },
      "execution_count": null,
      "outputs": [
        {
          "output_type": "execute_result",
          "data": {
            "text/plain": [
              "Coverage            0\n",
              "Education           0\n",
              "EmploymentStatus    0\n",
              "Gender              0\n",
              "Marital.Status      0\n",
              "Policy.Type         0\n",
              "Policy              0\n",
              "Renew.Offer.Type    0\n",
              "Sales.Channel       0\n",
              "Vehicle.Class       0\n",
              "dtype: int64"
            ]
          },
          "metadata": {},
          "execution_count": 19
        }
      ]
    },
    {
      "cell_type": "code",
      "source": [
        "cat_train.shape"
      ],
      "metadata": {
        "colab": {
          "base_uri": "https://localhost:8080/"
        },
        "id": "wG00V3vcpgov",
        "outputId": "9e756132-93d8-4948-cb2b-dee5dd9c2f35"
      },
      "execution_count": null,
      "outputs": [
        {
          "output_type": "execute_result",
          "data": {
            "text/plain": [
              "(9806, 10)"
            ]
          },
          "metadata": {},
          "execution_count": 20
        }
      ]
    },
    {
      "cell_type": "markdown",
      "source": [
        "Convert cat variables in to num variable"
      ],
      "metadata": {
        "id": "ue6YalgQquLz"
      }
    },
    {
      "cell_type": "code",
      "source": [
        "from sklearn.preprocessing import OneHotEncoder\n",
        "ohe = OneHotEncoder(sparse=True)\n",
        "\n",
        "result = ohe.fit_transform(cat_train).toarray()\n",
        "result.shape\n",
        "#print(ohe.categories_)\n",
        "#print(result)"
      ],
      "metadata": {
        "colab": {
          "base_uri": "https://localhost:8080/"
        },
        "id": "jy8nYlcErqO-",
        "outputId": "eb8972f7-c5f0-479e-dcbd-584e7c58b0aa"
      },
      "execution_count": null,
      "outputs": [
        {
          "output_type": "execute_result",
          "data": {
            "text/plain": [
              "(9806, 44)"
            ]
          },
          "metadata": {},
          "execution_count": 21
        }
      ]
    },
    {
      "cell_type": "code",
      "source": [
        "cat=pd.DataFrame(result,columns=ohe.get_feature_names())\n",
        "cat.shape"
      ],
      "metadata": {
        "colab": {
          "base_uri": "https://localhost:8080/"
        },
        "id": "uaEHHtGMrv7W",
        "outputId": "ae0f0cd7-133f-4a86-e8f7-f408179fce9c"
      },
      "execution_count": null,
      "outputs": [
        {
          "output_type": "stream",
          "name": "stderr",
          "text": [
            "/usr/local/lib/python3.7/dist-packages/sklearn/utils/deprecation.py:87: FutureWarning: Function get_feature_names is deprecated; get_feature_names is deprecated in 1.0 and will be removed in 1.2. Please use get_feature_names_out instead.\n",
            "  warnings.warn(msg, category=FutureWarning)\n"
          ]
        },
        {
          "output_type": "execute_result",
          "data": {
            "text/plain": [
              "(9806, 44)"
            ]
          },
          "metadata": {},
          "execution_count": 22
        }
      ]
    },
    {
      "cell_type": "code",
      "source": [
        "x=pd.concat([cat,numeric],axis=1)\n",
        "x.shape"
      ],
      "metadata": {
        "colab": {
          "base_uri": "https://localhost:8080/"
        },
        "id": "mndpAk6_w1nB",
        "outputId": "d50abf51-113a-4716-94b0-7bdad8e02767"
      },
      "execution_count": null,
      "outputs": [
        {
          "output_type": "execute_result",
          "data": {
            "text/plain": [
              "(9806, 51)"
            ]
          },
          "metadata": {},
          "execution_count": 23
        }
      ]
    },
    {
      "cell_type": "code",
      "source": [],
      "metadata": {
        "colab": {
          "base_uri": "https://localhost:8080/"
        },
        "id": "EgBgAZIrxij1",
        "outputId": "d70c216f-c093-4f7a-9e41-194e298af8a6"
      },
      "execution_count": null,
      "outputs": [
        {
          "output_type": "execute_result",
          "data": {
            "text/plain": [
              "x0_Basic                         0\n",
              "x0_Extended                      0\n",
              "x0_Premium                       0\n",
              "x1_Bachelor                      0\n",
              "x1_College                       0\n",
              "x1_Doctor                        0\n",
              "x1_High School or Below          0\n",
              "x1_Master                        0\n",
              "x2_Disabled                      0\n",
              "x2_Employed                      0\n",
              "x2_Medical Leave                 0\n",
              "x2_Retired                       0\n",
              "x2_Unemployed                    0\n",
              "x3_F                             0\n",
              "x3_M                             0\n",
              "x4_Divorced                      0\n",
              "x4_Married                       0\n",
              "x4_Single                        0\n",
              "x5_Corporate Auto                0\n",
              "x5_Personal Auto                 0\n",
              "x5_Special Auto                  0\n",
              "x6_Corporate L1                  0\n",
              "x6_Corporate L2                  0\n",
              "x6_Corporate L3                  0\n",
              "x6_Personal L1                   0\n",
              "x6_Personal L2                   0\n",
              "x6_Personal L3                   0\n",
              "x6_Special L1                    0\n",
              "x6_Special L2                    0\n",
              "x6_Special L3                    0\n",
              "x7_Offer1                        0\n",
              "x7_Offer2                        0\n",
              "x7_Offer3                        0\n",
              "x7_Offer4                        0\n",
              "x8_Agent                         0\n",
              "x8_Branch                        0\n",
              "x8_Call Center                   0\n",
              "x8_Web                           0\n",
              "x9_Four-Door Car                 0\n",
              "x9_Luxury Car                    0\n",
              "x9_Luxury SUV                    0\n",
              "x9_SUV                           0\n",
              "x9_Sports Car                    0\n",
              "x9_Two-Door Car                  0\n",
              "Income                           0\n",
              "Monthly.Premium.Auto             0\n",
              "Months.Since.Last.Claim          0\n",
              "Months.Since.Policy.Inception    0\n",
              "Number.of.Open.Complaints        0\n",
              "Number.of.Policies               0\n",
              "Total.Claim.Amount               0\n",
              "dtype: int64"
            ]
          },
          "metadata": {},
          "execution_count": 24
        }
      ]
    },
    {
      "cell_type": "code",
      "source": [
        "from sklearn.model_selection import train_test_split\n",
        "x_train, x_test, y_train, y_test = train_test_split(x, y, test_size = 0.3, random_state=2323)\n",
        "\n",
        "print(x_train.shape)\n",
        "print(x_test.shape)\n",
        "print(y_train.shape)\n",
        "print(y_test.shape)\n"
      ],
      "metadata": {
        "colab": {
          "base_uri": "https://localhost:8080/"
        },
        "id": "xljb-j4Myubn",
        "outputId": "199415f2-f689-4fc4-bed6-8198f1edbd7f"
      },
      "execution_count": null,
      "outputs": [
        {
          "output_type": "stream",
          "name": "stdout",
          "text": [
            "(6864, 51)\n",
            "(2942, 51)\n",
            "(6864,)\n",
            "(2942,)\n"
          ]
        }
      ]
    },
    {
      "cell_type": "markdown",
      "source": [
        "Modelling"
      ],
      "metadata": {
        "id": "EVzDad9Mq2ot"
      }
    },
    {
      "cell_type": "code",
      "source": [
        "from sklearn.linear_model import LinearRegression\n",
        "model= LinearRegression()\n",
        "train=model.fit(x_train,y_train)"
      ],
      "metadata": {
        "id": "dp74Ycw0zWR2"
      },
      "execution_count": null,
      "outputs": []
    },
    {
      "cell_type": "code",
      "source": [
        "predtrain=model.predict(x_train)\n",
        "predtest=model.predict(x_test)"
      ],
      "metadata": {
        "id": "svd1EMMlzZxD"
      },
      "execution_count": null,
      "outputs": []
    },
    {
      "cell_type": "code",
      "source": [
        "from sklearn.metrics import mean_squared_error"
      ],
      "metadata": {
        "id": "w4Dv9LIsztBP"
      },
      "execution_count": null,
      "outputs": []
    },
    {
      "cell_type": "code",
      "source": [
        "print(\"RMSE for train:\",np.sqrt(mean_squared_error(y_train,predtrain)))\n",
        "print(\"RMSE for test:\",np.sqrt(mean_squared_error(y_test,predtest)))\n"
      ],
      "metadata": {
        "colab": {
          "base_uri": "https://localhost:8080/"
        },
        "id": "9C-dcqjUzwGL",
        "outputId": "994826b5-031a-486d-e64e-2e1e48af7004"
      },
      "execution_count": null,
      "outputs": [
        {
          "output_type": "stream",
          "name": "stdout",
          "text": [
            "RMSE for train: 6342.383862505862\n",
            "RMSE for test: 6038.477800336602\n"
          ]
        }
      ]
    },
    {
      "cell_type": "code",
      "source": [
        "from sklearn.ensemble import RandomForestRegressor\n",
        "r=RandomForestRegressor()\n",
        "r.fit(x_train,y_train)\n",
        "r_predtest=r.predict(x_test)\n",
        "r_predtrain=r.predict(x_train)"
      ],
      "metadata": {
        "id": "E1P0kTg34Vcu"
      },
      "execution_count": null,
      "outputs": []
    },
    {
      "cell_type": "code",
      "source": [
        "print(\"RMSE for train:\",np.sqrt(mean_squared_error(y_train,r_predtrain)))\n",
        "print(\"RMSE for test:\",np.sqrt(mean_squared_error(y_test,r_predtest)))"
      ],
      "metadata": {
        "colab": {
          "base_uri": "https://localhost:8080/"
        },
        "id": "hdc-a5LP4y5O",
        "outputId": "4ab01a31-1085-440a-be02-ef85bf544ecf"
      },
      "execution_count": null,
      "outputs": [
        {
          "output_type": "stream",
          "name": "stdout",
          "text": [
            "RMSE for train: 1506.1831874605448\n",
            "RMSE for test: 3729.069513769504\n"
          ]
        }
      ]
    },
    {
      "cell_type": "code",
      "source": [
        "from sklearn.neighbors import KNeighborsRegressor\n",
        "k=KNeighborsRegressor()\n",
        "k.fit(x_train,y_train)\n",
        "k_predtest=k.predict(x_test)\n",
        "k_predtrain=k.predict(x_train)"
      ],
      "metadata": {
        "id": "IMfrDmTs43FI"
      },
      "execution_count": null,
      "outputs": []
    },
    {
      "cell_type": "code",
      "source": [
        "print(\"RMSE for train:\",np.sqrt(mean_squared_error(y_train,k_predtrain)))\n",
        "print(\"RMSE for test:\",np.sqrt(mean_squared_error(y_test,k_predtest)))"
      ],
      "metadata": {
        "colab": {
          "base_uri": "https://localhost:8080/"
        },
        "id": "qYtNSoxT5B-F",
        "outputId": "2e993949-ed06-4505-d3f7-01ebae431d04"
      },
      "execution_count": null,
      "outputs": [
        {
          "output_type": "stream",
          "name": "stdout",
          "text": [
            "RMSE for train: 5577.311864801577\n",
            "RMSE for test: 6451.928473463964\n"
          ]
        }
      ]
    },
    {
      "cell_type": "code",
      "source": [
        "from sklearn.tree import DecisionTreeRegressor\n",
        "\n",
        "d=DecisionTreeRegressor()\n",
        "d.fit(x_train,y_train)\n",
        "d_predtest=d.predict(x_test)\n",
        "d_predtrain=d.predict(x_train)"
      ],
      "metadata": {
        "id": "rJnEq4JkhHZF"
      },
      "execution_count": null,
      "outputs": []
    },
    {
      "cell_type": "code",
      "source": [
        "print(\"RMSE for train:\",np.sqrt(mean_squared_error(y_train,d_predtrain)))\n",
        "print(\"RMSE for test:\",np.sqrt(mean_squared_error(y_test,d_predtest)))"
      ],
      "metadata": {
        "colab": {
          "base_uri": "https://localhost:8080/"
        },
        "id": "acx_LYrViBSs",
        "outputId": "a4c665a0-fb4a-4120-b813-e15454121192"
      },
      "execution_count": null,
      "outputs": [
        {
          "output_type": "stream",
          "name": "stdout",
          "text": [
            "RMSE for train: 1.345608668937504e-13\n",
            "RMSE for test: 5624.656149590543\n"
          ]
        }
      ]
    },
    {
      "cell_type": "code",
      "source": [
        "from sklearn.linear_model import Lasso\n",
        "ls=Lasso()\n",
        "ls.fit(x_train,y_train)\n",
        "ls_predtest=ls.predict(x_test)\n",
        "ls_predtrain=ls.predict(x_train)\n"
      ],
      "metadata": {
        "id": "jJejdbbSiKf2"
      },
      "execution_count": null,
      "outputs": []
    },
    {
      "cell_type": "code",
      "source": [
        "print(\"RMSE for train:\",np.sqrt(mean_squared_error(y_train,ls_predtrain)))\n",
        "print(\"RMSE for test:\",np.sqrt(mean_squared_error(y_test,ls_predtest)))"
      ],
      "metadata": {
        "colab": {
          "base_uri": "https://localhost:8080/"
        },
        "id": "2lnNClE3iKaB",
        "outputId": "a497c2bf-7a12-42db-c87a-501d007f3432"
      },
      "execution_count": null,
      "outputs": [
        {
          "output_type": "stream",
          "name": "stdout",
          "text": [
            "RMSE for train: 6342.675002899714\n",
            "RMSE for test: 6037.841843548606\n"
          ]
        }
      ]
    },
    {
      "cell_type": "code",
      "source": [
        "from sklearn.linear_model import Ridge\n",
        "r=Ridge()\n",
        "r.fit(x_train, y_train)\n",
        "r_predtest=r.predict(x_test)\n",
        "r_predtrain=r.predict(x_train)\n"
      ],
      "metadata": {
        "id": "mA1sVfZqiKIv"
      },
      "execution_count": null,
      "outputs": []
    },
    {
      "cell_type": "code",
      "source": [
        "print(\"RMSE for train:\",np.sqrt(mean_squared_error(y_train,r_predtrain)))\n",
        "print(\"RMSE for test:\",np.sqrt(mean_squared_error(y_test,r_predtest)))"
      ],
      "metadata": {
        "colab": {
          "base_uri": "https://localhost:8080/"
        },
        "id": "p3r3QGy0i8St",
        "outputId": "7aede176-a7d4-4aca-daf7-cffe86e4e89e"
      },
      "execution_count": null,
      "outputs": [
        {
          "output_type": "stream",
          "name": "stdout",
          "text": [
            "RMSE for train: 6342.395224564514\n",
            "RMSE for test: 6038.219412196347\n"
          ]
        }
      ]
    },
    {
      "cell_type": "markdown",
      "source": [
        "Loading test dataset"
      ],
      "metadata": {
        "id": "Zig6RUM7q9Nk"
      }
    },
    {
      "cell_type": "code",
      "source": [
        "test=pd.read_csv(\"/content/drive/MyDrive/Hackathon/test-1574429501088.csv\")\n",
        "test.head()"
      ],
      "metadata": {
        "colab": {
          "base_uri": "https://localhost:8080/",
          "height": 386
        },
        "id": "Jr2SLM5e6n6D",
        "outputId": "361fd24f-42f1-41e0-f141-57bf4633a1fe"
      },
      "execution_count": null,
      "outputs": [
        {
          "output_type": "execute_result",
          "data": {
            "text/plain": [
              "   CustomerID  Coverage Education EmploymentStatus Gender   Income  \\\n",
              "0          17     Basic  Bachelor         Employed      M  43836.0   \n",
              "1          19  Extended   College         Employed      F  28812.0   \n",
              "2          29   Premium    Master         Employed      M  77026.0   \n",
              "3          34     Basic  Bachelor         Employed      F  24599.0   \n",
              "4          37  Extended  Bachelor         Disabled      F  13789.0   \n",
              "\n",
              "  Location.Geo Location.Code Marital.Status  Monthly.Premium.Auto  ...  \\\n",
              "0    12.6,79.4         Rural         Single                  73.0  ...   \n",
              "1    17.3,78.4         Urban        Married                  93.0  ...   \n",
              "2    18.4,73.5         Urban        Married                 110.0  ...   \n",
              "3    17.1,78.2         Rural        Married                  64.0  ...   \n",
              "4      13,80.1      Suburban       Divorced                  79.0  ...   \n",
              "\n",
              "   Months.Since.Policy.Inception  Number.of.Open.Complaints  \\\n",
              "0                             44                          0   \n",
              "1                              7                          0   \n",
              "2                             82                          2   \n",
              "3                             50                          1   \n",
              "4                             49                          0   \n",
              "\n",
              "   Number.of.Policies     Policy.Type        Policy Renew.Offer.Type  \\\n",
              "0                   1   Personal Auto   Personal L1           Offer1   \n",
              "1                   8    Special Auto    Special L2           Offer2   \n",
              "2                   3  Corporate Auto  Corporate L1           Offer2   \n",
              "3                   2  Corporate Auto  Corporate L2           Offer2   \n",
              "4                   1   Personal Auto   Personal L3           Offer4   \n",
              "\n",
              "  Sales.Channel Total.Claim.Amount  Vehicle.Class Vehicle.Size  \n",
              "0         Agent         138.130879  Four-Door Car      Medsize  \n",
              "1        Branch         425.527834  Four-Door Car      Medsize  \n",
              "2         Agent         472.029737  Four-Door Car      Medsize  \n",
              "3        Branch          42.920271  Four-Door Car      Medsize  \n",
              "4   Call Center         379.200000  Four-Door Car      Medsize  \n",
              "\n",
              "[5 rows x 21 columns]"
            ],
            "text/html": [
              "\n",
              "  <div id=\"df-3c3ace1e-a82d-48a2-8199-2a7a7d88e7f5\">\n",
              "    <div class=\"colab-df-container\">\n",
              "      <div>\n",
              "<style scoped>\n",
              "    .dataframe tbody tr th:only-of-type {\n",
              "        vertical-align: middle;\n",
              "    }\n",
              "\n",
              "    .dataframe tbody tr th {\n",
              "        vertical-align: top;\n",
              "    }\n",
              "\n",
              "    .dataframe thead th {\n",
              "        text-align: right;\n",
              "    }\n",
              "</style>\n",
              "<table border=\"1\" class=\"dataframe\">\n",
              "  <thead>\n",
              "    <tr style=\"text-align: right;\">\n",
              "      <th></th>\n",
              "      <th>CustomerID</th>\n",
              "      <th>Coverage</th>\n",
              "      <th>Education</th>\n",
              "      <th>EmploymentStatus</th>\n",
              "      <th>Gender</th>\n",
              "      <th>Income</th>\n",
              "      <th>Location.Geo</th>\n",
              "      <th>Location.Code</th>\n",
              "      <th>Marital.Status</th>\n",
              "      <th>Monthly.Premium.Auto</th>\n",
              "      <th>...</th>\n",
              "      <th>Months.Since.Policy.Inception</th>\n",
              "      <th>Number.of.Open.Complaints</th>\n",
              "      <th>Number.of.Policies</th>\n",
              "      <th>Policy.Type</th>\n",
              "      <th>Policy</th>\n",
              "      <th>Renew.Offer.Type</th>\n",
              "      <th>Sales.Channel</th>\n",
              "      <th>Total.Claim.Amount</th>\n",
              "      <th>Vehicle.Class</th>\n",
              "      <th>Vehicle.Size</th>\n",
              "    </tr>\n",
              "  </thead>\n",
              "  <tbody>\n",
              "    <tr>\n",
              "      <th>0</th>\n",
              "      <td>17</td>\n",
              "      <td>Basic</td>\n",
              "      <td>Bachelor</td>\n",
              "      <td>Employed</td>\n",
              "      <td>M</td>\n",
              "      <td>43836.0</td>\n",
              "      <td>12.6,79.4</td>\n",
              "      <td>Rural</td>\n",
              "      <td>Single</td>\n",
              "      <td>73.0</td>\n",
              "      <td>...</td>\n",
              "      <td>44</td>\n",
              "      <td>0</td>\n",
              "      <td>1</td>\n",
              "      <td>Personal Auto</td>\n",
              "      <td>Personal L1</td>\n",
              "      <td>Offer1</td>\n",
              "      <td>Agent</td>\n",
              "      <td>138.130879</td>\n",
              "      <td>Four-Door Car</td>\n",
              "      <td>Medsize</td>\n",
              "    </tr>\n",
              "    <tr>\n",
              "      <th>1</th>\n",
              "      <td>19</td>\n",
              "      <td>Extended</td>\n",
              "      <td>College</td>\n",
              "      <td>Employed</td>\n",
              "      <td>F</td>\n",
              "      <td>28812.0</td>\n",
              "      <td>17.3,78.4</td>\n",
              "      <td>Urban</td>\n",
              "      <td>Married</td>\n",
              "      <td>93.0</td>\n",
              "      <td>...</td>\n",
              "      <td>7</td>\n",
              "      <td>0</td>\n",
              "      <td>8</td>\n",
              "      <td>Special Auto</td>\n",
              "      <td>Special L2</td>\n",
              "      <td>Offer2</td>\n",
              "      <td>Branch</td>\n",
              "      <td>425.527834</td>\n",
              "      <td>Four-Door Car</td>\n",
              "      <td>Medsize</td>\n",
              "    </tr>\n",
              "    <tr>\n",
              "      <th>2</th>\n",
              "      <td>29</td>\n",
              "      <td>Premium</td>\n",
              "      <td>Master</td>\n",
              "      <td>Employed</td>\n",
              "      <td>M</td>\n",
              "      <td>77026.0</td>\n",
              "      <td>18.4,73.5</td>\n",
              "      <td>Urban</td>\n",
              "      <td>Married</td>\n",
              "      <td>110.0</td>\n",
              "      <td>...</td>\n",
              "      <td>82</td>\n",
              "      <td>2</td>\n",
              "      <td>3</td>\n",
              "      <td>Corporate Auto</td>\n",
              "      <td>Corporate L1</td>\n",
              "      <td>Offer2</td>\n",
              "      <td>Agent</td>\n",
              "      <td>472.029737</td>\n",
              "      <td>Four-Door Car</td>\n",
              "      <td>Medsize</td>\n",
              "    </tr>\n",
              "    <tr>\n",
              "      <th>3</th>\n",
              "      <td>34</td>\n",
              "      <td>Basic</td>\n",
              "      <td>Bachelor</td>\n",
              "      <td>Employed</td>\n",
              "      <td>F</td>\n",
              "      <td>24599.0</td>\n",
              "      <td>17.1,78.2</td>\n",
              "      <td>Rural</td>\n",
              "      <td>Married</td>\n",
              "      <td>64.0</td>\n",
              "      <td>...</td>\n",
              "      <td>50</td>\n",
              "      <td>1</td>\n",
              "      <td>2</td>\n",
              "      <td>Corporate Auto</td>\n",
              "      <td>Corporate L2</td>\n",
              "      <td>Offer2</td>\n",
              "      <td>Branch</td>\n",
              "      <td>42.920271</td>\n",
              "      <td>Four-Door Car</td>\n",
              "      <td>Medsize</td>\n",
              "    </tr>\n",
              "    <tr>\n",
              "      <th>4</th>\n",
              "      <td>37</td>\n",
              "      <td>Extended</td>\n",
              "      <td>Bachelor</td>\n",
              "      <td>Disabled</td>\n",
              "      <td>F</td>\n",
              "      <td>13789.0</td>\n",
              "      <td>13,80.1</td>\n",
              "      <td>Suburban</td>\n",
              "      <td>Divorced</td>\n",
              "      <td>79.0</td>\n",
              "      <td>...</td>\n",
              "      <td>49</td>\n",
              "      <td>0</td>\n",
              "      <td>1</td>\n",
              "      <td>Personal Auto</td>\n",
              "      <td>Personal L3</td>\n",
              "      <td>Offer4</td>\n",
              "      <td>Call Center</td>\n",
              "      <td>379.200000</td>\n",
              "      <td>Four-Door Car</td>\n",
              "      <td>Medsize</td>\n",
              "    </tr>\n",
              "  </tbody>\n",
              "</table>\n",
              "<p>5 rows × 21 columns</p>\n",
              "</div>\n",
              "      <button class=\"colab-df-convert\" onclick=\"convertToInteractive('df-3c3ace1e-a82d-48a2-8199-2a7a7d88e7f5')\"\n",
              "              title=\"Convert this dataframe to an interactive table.\"\n",
              "              style=\"display:none;\">\n",
              "        \n",
              "  <svg xmlns=\"http://www.w3.org/2000/svg\" height=\"24px\"viewBox=\"0 0 24 24\"\n",
              "       width=\"24px\">\n",
              "    <path d=\"M0 0h24v24H0V0z\" fill=\"none\"/>\n",
              "    <path d=\"M18.56 5.44l.94 2.06.94-2.06 2.06-.94-2.06-.94-.94-2.06-.94 2.06-2.06.94zm-11 1L8.5 8.5l.94-2.06 2.06-.94-2.06-.94L8.5 2.5l-.94 2.06-2.06.94zm10 10l.94 2.06.94-2.06 2.06-.94-2.06-.94-.94-2.06-.94 2.06-2.06.94z\"/><path d=\"M17.41 7.96l-1.37-1.37c-.4-.4-.92-.59-1.43-.59-.52 0-1.04.2-1.43.59L10.3 9.45l-7.72 7.72c-.78.78-.78 2.05 0 2.83L4 21.41c.39.39.9.59 1.41.59.51 0 1.02-.2 1.41-.59l7.78-7.78 2.81-2.81c.8-.78.8-2.07 0-2.86zM5.41 20L4 18.59l7.72-7.72 1.47 1.35L5.41 20z\"/>\n",
              "  </svg>\n",
              "      </button>\n",
              "      \n",
              "  <style>\n",
              "    .colab-df-container {\n",
              "      display:flex;\n",
              "      flex-wrap:wrap;\n",
              "      gap: 12px;\n",
              "    }\n",
              "\n",
              "    .colab-df-convert {\n",
              "      background-color: #E8F0FE;\n",
              "      border: none;\n",
              "      border-radius: 50%;\n",
              "      cursor: pointer;\n",
              "      display: none;\n",
              "      fill: #1967D2;\n",
              "      height: 32px;\n",
              "      padding: 0 0 0 0;\n",
              "      width: 32px;\n",
              "    }\n",
              "\n",
              "    .colab-df-convert:hover {\n",
              "      background-color: #E2EBFA;\n",
              "      box-shadow: 0px 1px 2px rgba(60, 64, 67, 0.3), 0px 1px 3px 1px rgba(60, 64, 67, 0.15);\n",
              "      fill: #174EA6;\n",
              "    }\n",
              "\n",
              "    [theme=dark] .colab-df-convert {\n",
              "      background-color: #3B4455;\n",
              "      fill: #D2E3FC;\n",
              "    }\n",
              "\n",
              "    [theme=dark] .colab-df-convert:hover {\n",
              "      background-color: #434B5C;\n",
              "      box-shadow: 0px 1px 3px 1px rgba(0, 0, 0, 0.15);\n",
              "      filter: drop-shadow(0px 1px 2px rgba(0, 0, 0, 0.3));\n",
              "      fill: #FFFFFF;\n",
              "    }\n",
              "  </style>\n",
              "\n",
              "      <script>\n",
              "        const buttonEl =\n",
              "          document.querySelector('#df-3c3ace1e-a82d-48a2-8199-2a7a7d88e7f5 button.colab-df-convert');\n",
              "        buttonEl.style.display =\n",
              "          google.colab.kernel.accessAllowed ? 'block' : 'none';\n",
              "\n",
              "        async function convertToInteractive(key) {\n",
              "          const element = document.querySelector('#df-3c3ace1e-a82d-48a2-8199-2a7a7d88e7f5');\n",
              "          const dataTable =\n",
              "            await google.colab.kernel.invokeFunction('convertToInteractive',\n",
              "                                                     [key], {});\n",
              "          if (!dataTable) return;\n",
              "\n",
              "          const docLinkHtml = 'Like what you see? Visit the ' +\n",
              "            '<a target=\"_blank\" href=https://colab.research.google.com/notebooks/data_table.ipynb>data table notebook</a>'\n",
              "            + ' to learn more about interactive tables.';\n",
              "          element.innerHTML = '';\n",
              "          dataTable['output_type'] = 'display_data';\n",
              "          await google.colab.output.renderOutput(dataTable, element);\n",
              "          const docLink = document.createElement('div');\n",
              "          docLink.innerHTML = docLinkHtml;\n",
              "          element.appendChild(docLink);\n",
              "        }\n",
              "      </script>\n",
              "    </div>\n",
              "  </div>\n",
              "  "
            ]
          },
          "metadata": {},
          "execution_count": 40
        }
      ]
    },
    {
      "cell_type": "markdown",
      "source": [
        "EDA"
      ],
      "metadata": {
        "id": "7ABSYA4qrAGU"
      }
    },
    {
      "cell_type": "code",
      "source": [
        "test['Income']=test['Income'].replace('?', np.NaN)\n",
        "test['Income']=pd.to_numeric(test['Income'])"
      ],
      "metadata": {
        "id": "asP-b_z76v-1"
      },
      "execution_count": null,
      "outputs": []
    },
    {
      "cell_type": "code",
      "source": [
        "test=test.drop(['CustomerID','Location.Code','Location.Geo','Vehicle.Size'],axis=1)\n"
      ],
      "metadata": {
        "id": "7XmnCurZ7TfS"
      },
      "execution_count": null,
      "outputs": []
    },
    {
      "cell_type": "markdown",
      "source": [
        "Dividing Numerical values and cat values"
      ],
      "metadata": {
        "id": "E1MQEIAgrBdu"
      }
    },
    {
      "cell_type": "code",
      "source": [
        "\n",
        "numeric_test=test._get_numeric_data()                             \n",
        "#numeric.info()\n",
        "cat_test=test.drop(numeric,axis=1)\n",
        "cat_test=cat_test.astype('category')\n",
        "cat_test.shape"
      ],
      "metadata": {
        "colab": {
          "base_uri": "https://localhost:8080/"
        },
        "id": "Mf2nHvSv7p8-",
        "outputId": "672385b4-0329-4035-8f41-a0aa09965121"
      },
      "execution_count": null,
      "outputs": [
        {
          "output_type": "execute_result",
          "data": {
            "text/plain": [
              "(1767, 10)"
            ]
          },
          "metadata": {},
          "execution_count": 43
        }
      ]
    },
    {
      "cell_type": "code",
      "source": [],
      "metadata": {
        "id": "xZtVxF16_O-o"
      },
      "execution_count": null,
      "outputs": []
    },
    {
      "cell_type": "code",
      "source": [
        "cat_cols_test=['Coverage', 'Education', 'EmploymentStatus', 'Gender', 'Marital.Status',\n",
        "       'Policy.Type', 'Policy', 'Renew.Offer.Type', 'Sales.Channel',\n",
        "       'Vehicle.Class']"
      ],
      "metadata": {
        "id": "rM9IEuQX7t-C"
      },
      "execution_count": null,
      "outputs": []
    },
    {
      "cell_type": "markdown",
      "source": [
        "imputing num variable with mean"
      ],
      "metadata": {
        "id": "mhfJ-OCwrIeS"
      }
    },
    {
      "cell_type": "code",
      "source": [
        "numeric_test=numeric_test.fillna(numeric_test.mean())"
      ],
      "metadata": {
        "id": "7sZCYRU49Yx6"
      },
      "execution_count": null,
      "outputs": []
    },
    {
      "cell_type": "markdown",
      "source": [
        "imputing cat variable with most_freqent"
      ],
      "metadata": {
        "id": "KNAZpvyJrMu6"
      }
    },
    {
      "cell_type": "code",
      "source": [
        "#cat_train=cat_train.fillna(cat_train.mode())\n",
        "from sklearn.impute import SimpleImputer\n",
        "im=SimpleImputer(strategy='most_frequent')\n",
        "m=im.fit_transform(cat_test)"
      ],
      "metadata": {
        "id": "8dN6q3sR-K0W"
      },
      "execution_count": null,
      "outputs": []
    },
    {
      "cell_type": "markdown",
      "source": [
        "converting cat variables to num variables"
      ],
      "metadata": {
        "id": "HJps9CgRrRQO"
      }
    },
    {
      "cell_type": "code",
      "source": [
        "from sklearn.preprocessing import OneHotEncoder\n",
        "ohe = OneHotEncoder(sparse=True)\n",
        "\n",
        "result = ohe.fit_transform(cat_test).toarray()\n",
        "result.shape\n",
        "#print(ohe.categories_)\n",
        "#print(result)"
      ],
      "metadata": {
        "colab": {
          "base_uri": "https://localhost:8080/"
        },
        "id": "_4W8ZmN2-nad",
        "outputId": "531b9c1d-23b8-4d7d-ff26-4a43fa99d438"
      },
      "execution_count": null,
      "outputs": [
        {
          "output_type": "execute_result",
          "data": {
            "text/plain": [
              "(1767, 44)"
            ]
          },
          "metadata": {},
          "execution_count": 47
        }
      ]
    },
    {
      "cell_type": "code",
      "source": [
        "cat_test=pd.DataFrame(result,columns=ohe.get_feature_names())\n",
        "cat_test.shape"
      ],
      "metadata": {
        "colab": {
          "base_uri": "https://localhost:8080/"
        },
        "id": "0vJCY9Uv-w7x",
        "outputId": "f41d81c4-305e-4b1c-85d3-1460a43c161f"
      },
      "execution_count": null,
      "outputs": [
        {
          "output_type": "stream",
          "name": "stderr",
          "text": [
            "/usr/local/lib/python3.7/dist-packages/sklearn/utils/deprecation.py:87: FutureWarning: Function get_feature_names is deprecated; get_feature_names is deprecated in 1.0 and will be removed in 1.2. Please use get_feature_names_out instead.\n",
            "  warnings.warn(msg, category=FutureWarning)\n"
          ]
        },
        {
          "output_type": "execute_result",
          "data": {
            "text/plain": [
              "(1767, 44)"
            ]
          },
          "metadata": {},
          "execution_count": 48
        }
      ]
    },
    {
      "cell_type": "code",
      "source": [
        "df=pd.concat([cat_test,numeric_test],axis=1)\n",
        "df.shape"
      ],
      "metadata": {
        "colab": {
          "base_uri": "https://localhost:8080/"
        },
        "id": "AhJGLOix-0oO",
        "outputId": "aab56592-b96d-4529-fd22-b5099a2732f1"
      },
      "execution_count": null,
      "outputs": [
        {
          "output_type": "execute_result",
          "data": {
            "text/plain": [
              "(1767, 51)"
            ]
          },
          "metadata": {},
          "execution_count": 49
        }
      ]
    },
    {
      "cell_type": "code",
      "source": [
        "test_perd=model.predict(df)"
      ],
      "metadata": {
        "colab": {
          "base_uri": "https://localhost:8080/"
        },
        "id": "Wsf80nkZ-97U",
        "outputId": "b92aa166-da85-47ba-cb1a-e7e666a786eb"
      },
      "execution_count": null,
      "outputs": [
        {
          "output_type": "stream",
          "name": "stderr",
          "text": [
            "/usr/local/lib/python3.7/dist-packages/sklearn/base.py:493: FutureWarning: The feature names should match those that were passed during fit. Starting version 1.2, an error will be raised.\n",
            "Feature names unseen at fit time:\n",
            "- x5_nan\n",
            "Feature names seen at fit time, yet now missing:\n",
            "- x2_Retired\n",
            "\n",
            "  warnings.warn(message, FutureWarning)\n"
          ]
        }
      ]
    },
    {
      "cell_type": "code",
      "source": [
        "test_perd_r=r.predict(df)"
      ],
      "metadata": {
        "colab": {
          "base_uri": "https://localhost:8080/"
        },
        "id": "UnKIgkCn_ZYX",
        "outputId": "fc94bf7c-29c9-4da5-a9ce-03f888d978cc"
      },
      "execution_count": null,
      "outputs": [
        {
          "output_type": "stream",
          "name": "stderr",
          "text": [
            "/usr/local/lib/python3.7/dist-packages/sklearn/base.py:493: FutureWarning: The feature names should match those that were passed during fit. Starting version 1.2, an error will be raised.\n",
            "Feature names unseen at fit time:\n",
            "- x5_nan\n",
            "Feature names seen at fit time, yet now missing:\n",
            "- x2_Retired\n",
            "\n",
            "  warnings.warn(message, FutureWarning)\n"
          ]
        }
      ]
    },
    {
      "cell_type": "code",
      "source": [
        "sub=pd.DataFrame({\"CustomerID\":test['CustomerID'].values,'Customer.Lifetime.Value':test_perd_r})\n",
        "sub.to_csv(\"submission1.csv\",index=False)\n",
        "sub=pd.read_csv(\"/content/submission1.csv\")\n",
        "sub.head()"
      ],
      "metadata": {
        "id": "Hj4BvYI6RAKA"
      },
      "execution_count": null,
      "outputs": []
    },
    {
      "cell_type": "code",
      "source": [
        "k_predtrain=k.predict(df)"
      ],
      "metadata": {
        "id": "kirbEl3OglN9"
      },
      "execution_count": null,
      "outputs": []
    },
    {
      "cell_type": "code",
      "source": [
        "sub=pd.DataFrame({\"CustomerID\":test['CustomerID'].values,'Customer.Lifetime.Value':k_predtrain})\n",
        "sub.to_csv(\"submission2.csv\",index=False)\n",
        "sub=pd.read_csv(\"/content/submission2.csv\")\n",
        "sub.head()"
      ],
      "metadata": {
        "id": "Uy7kGvZZgsDV"
      },
      "execution_count": null,
      "outputs": []
    },
    {
      "cell_type": "markdown",
      "source": [
        "Clustering\n"
      ],
      "metadata": {
        "id": "uVuBA23-rbye"
      }
    },
    {
      "cell_type": "code",
      "source": [
        "from sklearn.cluster import  KMeans"
      ],
      "metadata": {
        "id": "ol02x9PASUo_"
      },
      "execution_count": null,
      "outputs": []
    },
    {
      "cell_type": "markdown",
      "source": [
        "standertizing the daa"
      ],
      "metadata": {
        "id": "h41VmyJrreq4"
      }
    },
    {
      "cell_type": "code",
      "source": [
        "from sklearn.preprocessing import StandardScaler\n",
        "sd = StandardScaler().fit_transform(x)\n",
        "sd\n",
        "train_std=pd.DataFrame(sd,columns=list(x.columns))"
      ],
      "metadata": {
        "id": "_rkbAVGXTRw1"
      },
      "execution_count": null,
      "outputs": []
    },
    {
      "cell_type": "code",
      "source": [
        "\n",
        "kmeans_object = KMeans(n_clusters=5,random_state=1234)\n",
        "kmeans_object.fit(train_std)\n"
      ],
      "metadata": {
        "colab": {
          "base_uri": "https://localhost:8080/"
        },
        "id": "nSyOgSzGSIsp",
        "outputId": "4ea04c1a-535c-4db0-bcf2-72104b3f747a"
      },
      "execution_count": null,
      "outputs": [
        {
          "output_type": "execute_result",
          "data": {
            "text/plain": [
              "KMeans(n_clusters=5, random_state=1234)"
            ]
          },
          "metadata": {},
          "execution_count": 58
        }
      ]
    },
    {
      "cell_type": "code",
      "source": [
        "kmeans_clusters = kmeans_object.predict(train_std\n",
        "                                        )"
      ],
      "metadata": {
        "id": "U3JHgTpPTl6P"
      },
      "execution_count": null,
      "outputs": []
    },
    {
      "cell_type": "markdown",
      "source": [
        "ploting Elbow method to recognize no.of clusters"
      ],
      "metadata": {
        "id": "h8uy3mxprlVw"
      }
    },
    {
      "cell_type": "code",
      "source": [
        "cs = []\n",
        "for i in range(1, 11):\n",
        "    kmeans = KMeans(n_clusters = i, init = 'k-means++', max_iter = 300, n_init = 10, random_state =123)\n",
        "    kmeans.fit(train_std)\n",
        "    cs.append(kmeans.inertia_)\n",
        "plt.plot(range(1, 11), cs)\n",
        "plt.title('The Elbow Method')\n",
        "plt.xlabel('Number of clusters')\n",
        "plt.ylabel('CS')\n",
        "plt.show()"
      ],
      "metadata": {
        "colab": {
          "base_uri": "https://localhost:8080/",
          "height": 295
        },
        "id": "aGEMAm9bXn1n",
        "outputId": "d5effa65-c537-4525-f736-6a35864de704"
      },
      "execution_count": null,
      "outputs": [
        {
          "output_type": "display_data",
          "data": {
            "text/plain": [
              "<Figure size 432x288 with 1 Axes>"
            ],
            "image/png": "[encoded data removed]"
          },
          "metadata": {
            "needs_background": "light"
          }
        }
      ]
    },
    {
      "cell_type": "code",
      "source": [
        "best_kmeans = KMeans(n_clusters=7,random_state=1234)"
      ],
      "metadata": {
        "id": "Y5pyUNV0YHj6"
      },
      "execution_count": null,
      "outputs": []
    },
    {
      "cell_type": "code",
      "source": [
        "best_kmeans.fit(train_std)\n"
      ],
      "metadata": {
        "id": "nyl9MpOMadYM"
      },
      "execution_count": null,
      "outputs": []
    },
    {
      "cell_type": "code",
      "source": [
        "best_kmeans_labels = best_kmeans.predict(train_std)\n",
        "best_kmeans_labels"
      ],
      "metadata": {
        "id": "-yx1JgyOadGG"
      },
      "execution_count": null,
      "outputs": []
    },
    {
      "cell_type": "markdown",
      "source": [],
      "metadata": {
        "id": "8Hn0iotqb6Ee"
      }
    },
    {
      "cell_type": "code",
      "source": [
        "kmeans_results = pd.DataFrame({\"CustomerID\":train['CustomerID'].values,'Customer.Lifetime.Value':best_kmeans_labels})\n",
        "kmeans_results.head(20)"
      ],
      "metadata": {
        "id": "BbP3YI4tacMC"
      },
      "execution_count": null,
      "outputs": []
    },
    {
      "cell_type": "code",
      "source": [],
      "metadata": {
        "id": "IK0IefmgabHE"
      },
      "execution_count": null,
      "outputs": []
    }
  ]
}