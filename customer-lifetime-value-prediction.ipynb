{
 "cells": [
  {
   "cell_type": "markdown",
   "id": "3c99a19a",
   "metadata": {
    "id": "pqex1pqgonv_",
    "papermill": {
     "duration": 0.016077,
     "end_time": "2023-02-06T12:18:50.042672",
     "exception": false,
     "start_time": "2023-02-06T12:18:50.026595",
     "status": "completed"
    },
    "tags": []
   },
   "source": [
    "**Problem Statement**\n",
    "\n",
    "Problem Description : To predict the Customer life time value for an auto insurance company based on different quantitative and qualitative features provided.\n",
    "\n",
    "\n",
    "Forecasting is an important approach to take an optimal decision and implement appropriate action plans. A major non-life insurance company wants to evaluate customer life time value based on each customer’s demographics and policy information including claim details. The CLV is a profitability metric in terms of a value placed by the company on each customer and can be conceived in two dimensions: the customer`s present Value and potential future Value.\n",
    "\n",
    "You are expected to create an analytical and modelling framework to predict the life time value of each customer based on the quantitative and qualitative features provided in the dataset and also cluster the train dataset to understand behaviour of each segment."
   ]
  },
  {
   "cell_type": "markdown",
   "id": "711319aa",
   "metadata": {
    "id": "ilyTHLk8o1D2",
    "papermill": {
     "duration": 0.01398,
     "end_time": "2023-02-06T12:18:50.072835",
     "exception": false,
     "start_time": "2023-02-06T12:18:50.058855",
     "status": "completed"
    },
    "tags": []
   },
   "source": [
    "Importing relevant packages and libraries"
   ]
  },
  {
   "cell_type": "code",
   "execution_count": 1,
   "id": "783102cd",
   "metadata": {
    "execution": {
     "iopub.execute_input": "2023-02-06T12:18:50.106468Z",
     "iopub.status.busy": "2023-02-06T12:18:50.105773Z",
     "iopub.status.idle": "2023-02-06T12:18:50.939040Z",
     "shell.execute_reply": "2023-02-06T12:18:50.938127Z"
    },
    "id": "c6Q1wkYjbMlG",
    "papermill": {
     "duration": 0.851331,
     "end_time": "2023-02-06T12:18:50.941572",
     "exception": false,
     "start_time": "2023-02-06T12:18:50.090241",
     "status": "completed"
    },
    "tags": []
   },
   "outputs": [],
   "source": [
    "import numpy as np\n",
    "import pandas as pd\n",
    "import matplotlib.pyplot as plt\n",
    "import seaborn as sns"
   ]
  },
  {
   "cell_type": "markdown",
   "id": "4b12984c",
   "metadata": {
    "id": "nYeWs4QCpWTW",
    "papermill": {
     "duration": 0.014143,
     "end_time": "2023-02-06T12:18:50.970320",
     "exception": false,
     "start_time": "2023-02-06T12:18:50.956177",
     "status": "completed"
    },
    "tags": []
   },
   "source": [
    "Loading Train Dataset\n"
   ]
  },
  {
   "cell_type": "code",
   "execution_count": 2,
   "id": "4e733c52",
   "metadata": {
    "execution": {
     "iopub.execute_input": "2023-02-06T12:18:50.999989Z",
     "iopub.status.busy": "2023-02-06T12:18:50.999705Z",
     "iopub.status.idle": "2023-02-06T12:18:51.084763Z",
     "shell.execute_reply": "2023-02-06T12:18:51.083844Z"
    },
    "id": "aSB7Ex5DbNoD",
    "outputId": "a169a02a-f2ac-4a13-a37b-62490d18a83f",
    "papermill": {
     "duration": 0.102479,
     "end_time": "2023-02-06T12:18:51.087238",
     "exception": false,
     "start_time": "2023-02-06T12:18:50.984759",
     "status": "completed"
    },
    "tags": []
   },
   "outputs": [
    {
     "data": {
      "text/html": [
       "<div>\n",
       "<style scoped>\n",
       "    .dataframe tbody tr th:only-of-type {\n",
       "        vertical-align: middle;\n",
       "    }\n",
       "\n",
       "    .dataframe tbody tr th {\n",
       "        vertical-align: top;\n",
       "    }\n",
       "\n",
       "    .dataframe thead th {\n",
       "        text-align: right;\n",
       "    }\n",
       "</style>\n",
       "<table border=\"1\" class=\"dataframe\">\n",
       "  <thead>\n",
       "    <tr style=\"text-align: right;\">\n",
       "      <th></th>\n",
       "      <th>CustomerID</th>\n",
       "      <th>Customer.Lifetime.Value</th>\n",
       "      <th>Coverage</th>\n",
       "      <th>Education</th>\n",
       "      <th>EmploymentStatus</th>\n",
       "      <th>Gender</th>\n",
       "      <th>Income</th>\n",
       "      <th>Location.Geo</th>\n",
       "      <th>Location.Code</th>\n",
       "      <th>Marital.Status</th>\n",
       "      <th>...</th>\n",
       "      <th>Months.Since.Policy.Inception</th>\n",
       "      <th>Number.of.Open.Complaints</th>\n",
       "      <th>Number.of.Policies</th>\n",
       "      <th>Policy.Type</th>\n",
       "      <th>Policy</th>\n",
       "      <th>Renew.Offer.Type</th>\n",
       "      <th>Sales.Channel</th>\n",
       "      <th>Total.Claim.Amount</th>\n",
       "      <th>Vehicle.Class</th>\n",
       "      <th>Vehicle.Size</th>\n",
       "    </tr>\n",
       "  </thead>\n",
       "  <tbody>\n",
       "    <tr>\n",
       "      <th>0</th>\n",
       "      <td>5917</td>\n",
       "      <td>7824.372789</td>\n",
       "      <td>Basic</td>\n",
       "      <td>Bachelor</td>\n",
       "      <td>Unemployed</td>\n",
       "      <td>F</td>\n",
       "      <td>0</td>\n",
       "      <td>17.7,77.7</td>\n",
       "      <td>Urban</td>\n",
       "      <td>Married</td>\n",
       "      <td>...</td>\n",
       "      <td>33</td>\n",
       "      <td>NaN</td>\n",
       "      <td>2.0</td>\n",
       "      <td>Personal Auto</td>\n",
       "      <td>Personal L2</td>\n",
       "      <td>Offer2</td>\n",
       "      <td>Branch</td>\n",
       "      <td>267.214383</td>\n",
       "      <td>Four-Door Car</td>\n",
       "      <td>2.0</td>\n",
       "    </tr>\n",
       "    <tr>\n",
       "      <th>1</th>\n",
       "      <td>2057</td>\n",
       "      <td>8005.964669</td>\n",
       "      <td>Basic</td>\n",
       "      <td>College</td>\n",
       "      <td>Employed</td>\n",
       "      <td>M</td>\n",
       "      <td>63357</td>\n",
       "      <td>28.8,76.6</td>\n",
       "      <td>Suburban</td>\n",
       "      <td>Married</td>\n",
       "      <td>...</td>\n",
       "      <td>42</td>\n",
       "      <td>0.0</td>\n",
       "      <td>5.0</td>\n",
       "      <td>Personal Auto</td>\n",
       "      <td>Personal L2</td>\n",
       "      <td>Offer2</td>\n",
       "      <td>Agent</td>\n",
       "      <td>565.508572</td>\n",
       "      <td>SUV</td>\n",
       "      <td>2.0</td>\n",
       "    </tr>\n",
       "    <tr>\n",
       "      <th>2</th>\n",
       "      <td>4119</td>\n",
       "      <td>8646.504109</td>\n",
       "      <td>Basic</td>\n",
       "      <td>High School or Below</td>\n",
       "      <td>Employed</td>\n",
       "      <td>F</td>\n",
       "      <td>64125</td>\n",
       "      <td>21.6,88.4</td>\n",
       "      <td>Urban</td>\n",
       "      <td>Married</td>\n",
       "      <td>...</td>\n",
       "      <td>44</td>\n",
       "      <td>0.0</td>\n",
       "      <td>3.0</td>\n",
       "      <td>Personal Auto</td>\n",
       "      <td>Personal L1</td>\n",
       "      <td>Offer2</td>\n",
       "      <td>Branch</td>\n",
       "      <td>369.818708</td>\n",
       "      <td>SUV</td>\n",
       "      <td>1.0</td>\n",
       "    </tr>\n",
       "    <tr>\n",
       "      <th>3</th>\n",
       "      <td>1801</td>\n",
       "      <td>9294.088719</td>\n",
       "      <td>Basic</td>\n",
       "      <td>College</td>\n",
       "      <td>Employed</td>\n",
       "      <td>M</td>\n",
       "      <td>67544</td>\n",
       "      <td>19,72.5</td>\n",
       "      <td>Suburban</td>\n",
       "      <td>Married</td>\n",
       "      <td>...</td>\n",
       "      <td>15</td>\n",
       "      <td>NaN</td>\n",
       "      <td>3.0</td>\n",
       "      <td>Corporate Auto</td>\n",
       "      <td>Corporate L3</td>\n",
       "      <td>Offer1</td>\n",
       "      <td>Branch</td>\n",
       "      <td>556.800000</td>\n",
       "      <td>SUV</td>\n",
       "      <td>3.0</td>\n",
       "    </tr>\n",
       "    <tr>\n",
       "      <th>4</th>\n",
       "      <td>9618</td>\n",
       "      <td>5595.971365</td>\n",
       "      <td>Basic</td>\n",
       "      <td>Bachelor</td>\n",
       "      <td>Retired</td>\n",
       "      <td>F</td>\n",
       "      <td>19651</td>\n",
       "      <td>19.1,74.7</td>\n",
       "      <td>Suburban</td>\n",
       "      <td>Married</td>\n",
       "      <td>...</td>\n",
       "      <td>68</td>\n",
       "      <td>0.0</td>\n",
       "      <td>5.0</td>\n",
       "      <td>Personal Auto</td>\n",
       "      <td>Personal L1</td>\n",
       "      <td>Offer2</td>\n",
       "      <td>Web</td>\n",
       "      <td>345.600000</td>\n",
       "      <td>Two-Door Car</td>\n",
       "      <td>3.0</td>\n",
       "    </tr>\n",
       "  </tbody>\n",
       "</table>\n",
       "<p>5 rows × 22 columns</p>\n",
       "</div>"
      ],
      "text/plain": [
       "   CustomerID  Customer.Lifetime.Value Coverage             Education  \\\n",
       "0        5917              7824.372789    Basic              Bachelor   \n",
       "1        2057              8005.964669    Basic               College   \n",
       "2        4119              8646.504109    Basic  High School or Below   \n",
       "3        1801              9294.088719    Basic               College   \n",
       "4        9618              5595.971365    Basic              Bachelor   \n",
       "\n",
       "  EmploymentStatus Gender Income Location.Geo Location.Code Marital.Status  \\\n",
       "0       Unemployed      F      0    17.7,77.7         Urban        Married   \n",
       "1         Employed      M  63357    28.8,76.6      Suburban        Married   \n",
       "2         Employed      F  64125    21.6,88.4         Urban        Married   \n",
       "3         Employed      M  67544      19,72.5      Suburban        Married   \n",
       "4          Retired      F  19651    19.1,74.7      Suburban        Married   \n",
       "\n",
       "   ...  Months.Since.Policy.Inception  Number.of.Open.Complaints  \\\n",
       "0  ...                             33                        NaN   \n",
       "1  ...                             42                        0.0   \n",
       "2  ...                             44                        0.0   \n",
       "3  ...                             15                        NaN   \n",
       "4  ...                             68                        0.0   \n",
       "\n",
       "   Number.of.Policies     Policy.Type        Policy Renew.Offer.Type  \\\n",
       "0                 2.0   Personal Auto   Personal L2           Offer2   \n",
       "1                 5.0   Personal Auto   Personal L2           Offer2   \n",
       "2                 3.0   Personal Auto   Personal L1           Offer2   \n",
       "3                 3.0  Corporate Auto  Corporate L3           Offer1   \n",
       "4                 5.0   Personal Auto   Personal L1           Offer2   \n",
       "\n",
       "  Sales.Channel Total.Claim.Amount  Vehicle.Class  Vehicle.Size  \n",
       "0        Branch         267.214383  Four-Door Car           2.0  \n",
       "1         Agent         565.508572            SUV           2.0  \n",
       "2        Branch         369.818708            SUV           1.0  \n",
       "3        Branch         556.800000            SUV           3.0  \n",
       "4           Web         345.600000   Two-Door Car           3.0  \n",
       "\n",
       "[5 rows x 22 columns]"
      ]
     },
     "execution_count": 2,
     "metadata": {},
     "output_type": "execute_result"
    }
   ],
   "source": [
    "train=pd.read_csv(\"/kaggle/input/customer-life-time-value/train-1574429526318.csv\")\n",
    "train.head()\n"
   ]
  },
  {
   "cell_type": "markdown",
   "id": "6033e8c5",
   "metadata": {
    "id": "s_A5mxpQpb5M",
    "papermill": {
     "duration": 0.014516,
     "end_time": "2023-02-06T12:18:51.116244",
     "exception": false,
     "start_time": "2023-02-06T12:18:51.101728",
     "status": "completed"
    },
    "tags": []
   },
   "source": [
    "EDA"
   ]
  },
  {
   "cell_type": "code",
   "execution_count": 3,
   "id": "b1994353",
   "metadata": {
    "execution": {
     "iopub.execute_input": "2023-02-06T12:18:51.146655Z",
     "iopub.status.busy": "2023-02-06T12:18:51.145983Z",
     "iopub.status.idle": "2023-02-06T12:18:51.153345Z",
     "shell.execute_reply": "2023-02-06T12:18:51.152444Z"
    },
    "id": "xTjBVo8A0Y-X",
    "papermill": {
     "duration": 0.024611,
     "end_time": "2023-02-06T12:18:51.155372",
     "exception": false,
     "start_time": "2023-02-06T12:18:51.130761",
     "status": "completed"
    },
    "tags": []
   },
   "outputs": [],
   "source": [
    "train['Income']=train['Income'].replace('?', np.NaN)"
   ]
  },
  {
   "cell_type": "code",
   "execution_count": 4,
   "id": "28e0f08b",
   "metadata": {
    "execution": {
     "iopub.execute_input": "2023-02-06T12:18:51.185624Z",
     "iopub.status.busy": "2023-02-06T12:18:51.184954Z",
     "iopub.status.idle": "2023-02-06T12:18:51.195912Z",
     "shell.execute_reply": "2023-02-06T12:18:51.195070Z"
    },
    "id": "7qWtRXfhkstm",
    "papermill": {
     "duration": 0.028119,
     "end_time": "2023-02-06T12:18:51.197942",
     "exception": false,
     "start_time": "2023-02-06T12:18:51.169823",
     "status": "completed"
    },
    "tags": []
   },
   "outputs": [],
   "source": [
    "train['Income']=pd.to_numeric(train['Income'])\n"
   ]
  },
  {
   "cell_type": "code",
   "execution_count": 5,
   "id": "5482d342",
   "metadata": {
    "execution": {
     "iopub.execute_input": "2023-02-06T12:18:51.227760Z",
     "iopub.status.busy": "2023-02-06T12:18:51.227502Z",
     "iopub.status.idle": "2023-02-06T12:18:51.234662Z",
     "shell.execute_reply": "2023-02-06T12:18:51.233681Z"
    },
    "id": "rWkOoO0CkQcU",
    "outputId": "bb7c2c5e-ebe0-4a71-f037-4422d6bb901d",
    "papermill": {
     "duration": 0.025445,
     "end_time": "2023-02-06T12:18:51.237769",
     "exception": false,
     "start_time": "2023-02-06T12:18:51.212324",
     "status": "completed"
    },
    "tags": []
   },
   "outputs": [
    {
     "data": {
      "text/plain": [
       "0           0.0\n",
       "1       63357.0\n",
       "2       64125.0\n",
       "3       67544.0\n",
       "4       19651.0\n",
       "         ...   \n",
       "9801        0.0\n",
       "9802    72421.0\n",
       "9803    74665.0\n",
       "9804    91763.0\n",
       "9805    18017.0\n",
       "Name: Income, Length: 9806, dtype: float64"
      ]
     },
     "execution_count": 5,
     "metadata": {},
     "output_type": "execute_result"
    }
   ],
   "source": [
    "train['Income']"
   ]
  },
  {
   "cell_type": "code",
   "execution_count": 6,
   "id": "10d41400",
   "metadata": {
    "execution": {
     "iopub.execute_input": "2023-02-06T12:18:51.267961Z",
     "iopub.status.busy": "2023-02-06T12:18:51.267710Z",
     "iopub.status.idle": "2023-02-06T12:18:52.325958Z",
     "shell.execute_reply": "2023-02-06T12:18:52.324944Z"
    },
    "id": "qePIjIohpm_2",
    "outputId": "32671628-2819-450a-f076-eae4e37e42e6",
    "papermill": {
     "duration": 1.075799,
     "end_time": "2023-02-06T12:18:52.328161",
     "exception": false,
     "start_time": "2023-02-06T12:18:51.252362",
     "status": "completed"
    },
    "tags": []
   },
   "outputs": [
    {
     "data": {
      "text/plain": [
       "array([[<AxesSubplot:title={'center':'CustomerID'}>,\n",
       "        <AxesSubplot:title={'center':'Customer.Lifetime.Value'}>,\n",
       "        <AxesSubplot:title={'center':'Income'}>],\n",
       "       [<AxesSubplot:title={'center':'Monthly.Premium.Auto'}>,\n",
       "        <AxesSubplot:title={'center':'Months.Since.Last.Claim'}>,\n",
       "        <AxesSubplot:title={'center':'Months.Since.Policy.Inception'}>],\n",
       "       [<AxesSubplot:title={'center':'Number.of.Open.Complaints'}>,\n",
       "        <AxesSubplot:title={'center':'Number.of.Policies'}>,\n",
       "        <AxesSubplot:title={'center':'Total.Claim.Amount'}>],\n",
       "       [<AxesSubplot:title={'center':'Vehicle.Size'}>, <AxesSubplot:>,\n",
       "        <AxesSubplot:>]], dtype=object)"
      ]
     },
     "execution_count": 6,
     "metadata": {},
     "output_type": "execute_result"
    },
    {
     "data": {
      "image/png": "[encoded data removed]",
      "text/plain": [
       "<Figure size 720x720 with 12 Axes>"
      ]
     },
     "metadata": {
      "needs_background": "light"
     },
     "output_type": "display_data"
    }
   ],
   "source": [
    "train.hist(figsize=(10,10),color=\"b\")"
   ]
  },
  {
   "cell_type": "code",
   "execution_count": 7,
   "id": "c2a27456",
   "metadata": {
    "execution": {
     "iopub.execute_input": "2023-02-06T12:18:52.361109Z",
     "iopub.status.busy": "2023-02-06T12:18:52.359694Z",
     "iopub.status.idle": "2023-02-06T12:18:53.065015Z",
     "shell.execute_reply": "2023-02-06T12:18:53.064091Z"
    },
    "id": "9yC4Dbtyp89W",
    "outputId": "08a03c5c-4b5d-4254-cc25-463ef4562067",
    "papermill": {
     "duration": 0.723683,
     "end_time": "2023-02-06T12:18:53.067401",
     "exception": false,
     "start_time": "2023-02-06T12:18:52.343718",
     "status": "completed"
    },
    "tags": []
   },
   "outputs": [
    {
     "data": {
      "image/png": "[encoded data removed]",
      "text/plain": [
       "<Figure size 720x720 with 2 Axes>"
      ]
     },
     "metadata": {
      "needs_background": "light"
     },
     "output_type": "display_data"
    }
   ],
   "source": [
    "f, ax = plt.subplots(figsize=(10,10))\n",
    "mat = train.corr('pearson')#numpy.triu(a, k = 0) : Returns copy of array with upper part of the triangle w.r.t k\n",
    "mask = np.triu(np.ones_like(mat, dtype=bool))#function returns an array of given shape and type as a given array, with ones.\n",
    "cmap = sns.diverging_palette(230, 20, as_cmap=True)\n",
    "sns.heatmap(mat, mask=mask, cmap=cmap, vmax=1, center=1, annot = True,\n",
    "           square=True, linewidths=.5, cbar_kws={\"shrink\": .5})\n",
    "plt.show()"
   ]
  },
  {
   "cell_type": "markdown",
   "id": "e9adf3bd",
   "metadata": {
    "id": "xByGzYQ-qGh1",
    "papermill": {
     "duration": 0.030982,
     "end_time": "2023-02-06T12:18:53.123590",
     "exception": false,
     "start_time": "2023-02-06T12:18:53.092608",
     "status": "completed"
    },
    "tags": []
   },
   "source": [
    "Preprocessing"
   ]
  },
  {
   "cell_type": "code",
   "execution_count": 8,
   "id": "3c6b09af",
   "metadata": {
    "execution": {
     "iopub.execute_input": "2023-02-06T12:18:53.163197Z",
     "iopub.status.busy": "2023-02-06T12:18:53.162885Z",
     "iopub.status.idle": "2023-02-06T12:18:53.169340Z",
     "shell.execute_reply": "2023-02-06T12:18:53.168400Z"
    },
    "id": "1fjLY7BMgKyZ",
    "papermill": {
     "duration": 0.025839,
     "end_time": "2023-02-06T12:18:53.171349",
     "exception": false,
     "start_time": "2023-02-06T12:18:53.145510",
     "status": "completed"
    },
    "tags": []
   },
   "outputs": [],
   "source": [
    "x=train.drop(['Customer.Lifetime.Value','Location.Code','Location.Geo','Vehicle.Size'],axis=1)\n",
    "y=train['Customer.Lifetime.Value']"
   ]
  },
  {
   "cell_type": "code",
   "execution_count": 9,
   "id": "c2c93315",
   "metadata": {
    "execution": {
     "iopub.execute_input": "2023-02-06T12:18:53.204399Z",
     "iopub.status.busy": "2023-02-06T12:18:53.203996Z",
     "iopub.status.idle": "2023-02-06T12:18:53.210272Z",
     "shell.execute_reply": "2023-02-06T12:18:53.209460Z"
    },
    "id": "I__W_eE9f6Mc",
    "papermill": {
     "duration": 0.02489,
     "end_time": "2023-02-06T12:18:53.212255",
     "exception": false,
     "start_time": "2023-02-06T12:18:53.187365",
     "status": "completed"
    },
    "tags": []
   },
   "outputs": [],
   "source": [
    "new=x.drop('CustomerID',axis=1)"
   ]
  },
  {
   "cell_type": "markdown",
   "id": "fbe59f61",
   "metadata": {
    "id": "CqiJIfQFqMzn",
    "papermill": {
     "duration": 0.015824,
     "end_time": "2023-02-06T12:18:53.243813",
     "exception": false,
     "start_time": "2023-02-06T12:18:53.227989",
     "status": "completed"
    },
    "tags": []
   },
   "source": [
    "Dividing Numerical values and Categorical"
   ]
  },
  {
   "cell_type": "code",
   "execution_count": 10,
   "id": "aaadaa80",
   "metadata": {
    "execution": {
     "iopub.execute_input": "2023-02-06T12:18:53.276964Z",
     "iopub.status.busy": "2023-02-06T12:18:53.276687Z",
     "iopub.status.idle": "2023-02-06T12:18:53.301798Z",
     "shell.execute_reply": "2023-02-06T12:18:53.300769Z"
    },
    "id": "tbb1pu4CbPgB",
    "outputId": "879c02cc-9a37-4243-815b-f18441c159c0",
    "papermill": {
     "duration": 0.043884,
     "end_time": "2023-02-06T12:18:53.303824",
     "exception": false,
     "start_time": "2023-02-06T12:18:53.259940",
     "status": "completed"
    },
    "tags": []
   },
   "outputs": [
    {
     "data": {
      "text/html": [
       "<div>\n",
       "<style scoped>\n",
       "    .dataframe tbody tr th:only-of-type {\n",
       "        vertical-align: middle;\n",
       "    }\n",
       "\n",
       "    .dataframe tbody tr th {\n",
       "        vertical-align: top;\n",
       "    }\n",
       "\n",
       "    .dataframe thead th {\n",
       "        text-align: right;\n",
       "    }\n",
       "</style>\n",
       "<table border=\"1\" class=\"dataframe\">\n",
       "  <thead>\n",
       "    <tr style=\"text-align: right;\">\n",
       "      <th></th>\n",
       "      <th>Income</th>\n",
       "      <th>Monthly.Premium.Auto</th>\n",
       "      <th>Months.Since.Last.Claim</th>\n",
       "      <th>Months.Since.Policy.Inception</th>\n",
       "      <th>Number.of.Open.Complaints</th>\n",
       "      <th>Number.of.Policies</th>\n",
       "      <th>Total.Claim.Amount</th>\n",
       "    </tr>\n",
       "  </thead>\n",
       "  <tbody>\n",
       "    <tr>\n",
       "      <th>0</th>\n",
       "      <td>0.0</td>\n",
       "      <td>67.0</td>\n",
       "      <td>2</td>\n",
       "      <td>33</td>\n",
       "      <td>NaN</td>\n",
       "      <td>2.0</td>\n",
       "      <td>267.214383</td>\n",
       "    </tr>\n",
       "    <tr>\n",
       "      <th>1</th>\n",
       "      <td>63357.0</td>\n",
       "      <td>101.0</td>\n",
       "      <td>26</td>\n",
       "      <td>42</td>\n",
       "      <td>0.0</td>\n",
       "      <td>5.0</td>\n",
       "      <td>565.508572</td>\n",
       "    </tr>\n",
       "    <tr>\n",
       "      <th>2</th>\n",
       "      <td>64125.0</td>\n",
       "      <td>108.0</td>\n",
       "      <td>3</td>\n",
       "      <td>44</td>\n",
       "      <td>0.0</td>\n",
       "      <td>3.0</td>\n",
       "      <td>369.818708</td>\n",
       "    </tr>\n",
       "    <tr>\n",
       "      <th>3</th>\n",
       "      <td>67544.0</td>\n",
       "      <td>116.0</td>\n",
       "      <td>2</td>\n",
       "      <td>15</td>\n",
       "      <td>NaN</td>\n",
       "      <td>3.0</td>\n",
       "      <td>556.800000</td>\n",
       "    </tr>\n",
       "    <tr>\n",
       "      <th>4</th>\n",
       "      <td>19651.0</td>\n",
       "      <td>72.0</td>\n",
       "      <td>3</td>\n",
       "      <td>68</td>\n",
       "      <td>0.0</td>\n",
       "      <td>5.0</td>\n",
       "      <td>345.600000</td>\n",
       "    </tr>\n",
       "  </tbody>\n",
       "</table>\n",
       "</div>"
      ],
      "text/plain": [
       "    Income  Monthly.Premium.Auto  Months.Since.Last.Claim  \\\n",
       "0      0.0                  67.0                        2   \n",
       "1  63357.0                 101.0                       26   \n",
       "2  64125.0                 108.0                        3   \n",
       "3  67544.0                 116.0                        2   \n",
       "4  19651.0                  72.0                        3   \n",
       "\n",
       "   Months.Since.Policy.Inception  Number.of.Open.Complaints  \\\n",
       "0                             33                        NaN   \n",
       "1                             42                        0.0   \n",
       "2                             44                        0.0   \n",
       "3                             15                        NaN   \n",
       "4                             68                        0.0   \n",
       "\n",
       "   Number.of.Policies  Total.Claim.Amount  \n",
       "0                 2.0          267.214383  \n",
       "1                 5.0          565.508572  \n",
       "2                 3.0          369.818708  \n",
       "3                 3.0          556.800000  \n",
       "4                 5.0          345.600000  "
      ]
     },
     "execution_count": 10,
     "metadata": {},
     "output_type": "execute_result"
    }
   ],
   "source": [
    "numeric=new._get_numeric_data()                             \n",
    "#numeric.info()\n",
    "cat_train=new.drop(numeric,axis=1)\n",
    "cat_train=cat_train.astype('category')\n",
    "numeric.head()"
   ]
  },
  {
   "cell_type": "code",
   "execution_count": 11,
   "id": "c189c91e",
   "metadata": {
    "execution": {
     "iopub.execute_input": "2023-02-06T12:18:53.338419Z",
     "iopub.status.busy": "2023-02-06T12:18:53.336986Z",
     "iopub.status.idle": "2023-02-06T12:18:53.344129Z",
     "shell.execute_reply": "2023-02-06T12:18:53.343156Z"
    },
    "id": "rw22_k262nq3",
    "outputId": "14fb466b-a500-48f3-a378-e901fcb7e7cc",
    "papermill": {
     "duration": 0.026063,
     "end_time": "2023-02-06T12:18:53.346280",
     "exception": false,
     "start_time": "2023-02-06T12:18:53.320217",
     "status": "completed"
    },
    "tags": []
   },
   "outputs": [
    {
     "data": {
      "text/plain": [
       "Index(['Coverage', 'Education', 'EmploymentStatus', 'Gender', 'Marital.Status',\n",
       "       'Policy.Type', 'Policy', 'Renew.Offer.Type', 'Sales.Channel',\n",
       "       'Vehicle.Class'],\n",
       "      dtype='object')"
      ]
     },
     "execution_count": 11,
     "metadata": {},
     "output_type": "execute_result"
    }
   ],
   "source": [
    "cat_train.columns"
   ]
  },
  {
   "cell_type": "code",
   "execution_count": 12,
   "id": "eb547feb",
   "metadata": {
    "execution": {
     "iopub.execute_input": "2023-02-06T12:18:53.379691Z",
     "iopub.status.busy": "2023-02-06T12:18:53.379440Z",
     "iopub.status.idle": "2023-02-06T12:18:53.384824Z",
     "shell.execute_reply": "2023-02-06T12:18:53.384028Z"
    },
    "id": "Q2hg6YLOrQWX",
    "papermill": {
     "duration": 0.024313,
     "end_time": "2023-02-06T12:18:53.386812",
     "exception": false,
     "start_time": "2023-02-06T12:18:53.362499",
     "status": "completed"
    },
    "tags": []
   },
   "outputs": [],
   "source": [
    "cat_cols=['Coverage', 'Education', 'EmploymentStatus', 'Gender', 'Marital.Status',\n",
    "       'Policy.Type', 'Policy', 'Renew.Offer.Type', 'Sales.Channel',\n",
    "       'Vehicle.Class']"
   ]
  },
  {
   "cell_type": "markdown",
   "id": "4ff3b30e",
   "metadata": {
    "id": "dpI8szJxqYaz",
    "papermill": {
     "duration": 0.016005,
     "end_time": "2023-02-06T12:18:53.419096",
     "exception": false,
     "start_time": "2023-02-06T12:18:53.403091",
     "status": "completed"
    },
    "tags": []
   },
   "source": [
    "Fill numerical null values with mean"
   ]
  },
  {
   "cell_type": "code",
   "execution_count": 13,
   "id": "bc0e904b",
   "metadata": {
    "execution": {
     "iopub.execute_input": "2023-02-06T12:18:53.452756Z",
     "iopub.status.busy": "2023-02-06T12:18:53.452495Z",
     "iopub.status.idle": "2023-02-06T12:18:53.460319Z",
     "shell.execute_reply": "2023-02-06T12:18:53.459471Z"
    },
    "id": "ph2zpPysybk-",
    "papermill": {
     "duration": 0.026973,
     "end_time": "2023-02-06T12:18:53.462368",
     "exception": false,
     "start_time": "2023-02-06T12:18:53.435395",
     "status": "completed"
    },
    "tags": []
   },
   "outputs": [],
   "source": [
    "numeric=numeric.fillna(numeric.mean())"
   ]
  },
  {
   "cell_type": "code",
   "execution_count": 14,
   "id": "805ac2b5",
   "metadata": {
    "execution": {
     "iopub.execute_input": "2023-02-06T12:18:53.496104Z",
     "iopub.status.busy": "2023-02-06T12:18:53.495826Z",
     "iopub.status.idle": "2023-02-06T12:18:53.503868Z",
     "shell.execute_reply": "2023-02-06T12:18:53.502920Z"
    },
    "id": "M9HpvuL6yjKW",
    "outputId": "f2762c0f-cd39-4d12-a004-fe409dcd9bcc",
    "papermill": {
     "duration": 0.026834,
     "end_time": "2023-02-06T12:18:53.505796",
     "exception": false,
     "start_time": "2023-02-06T12:18:53.478962",
     "status": "completed"
    },
    "tags": []
   },
   "outputs": [
    {
     "data": {
      "text/plain": [
       "Income                           0\n",
       "Monthly.Premium.Auto             0\n",
       "Months.Since.Last.Claim          0\n",
       "Months.Since.Policy.Inception    0\n",
       "Number.of.Open.Complaints        0\n",
       "Number.of.Policies               0\n",
       "Total.Claim.Amount               0\n",
       "dtype: int64"
      ]
     },
     "execution_count": 14,
     "metadata": {},
     "output_type": "execute_result"
    }
   ],
   "source": [
    "numeric.isnull().sum()"
   ]
  },
  {
   "cell_type": "markdown",
   "id": "25b6b216",
   "metadata": {
    "id": "4_nBoTQMqhVA",
    "papermill": {
     "duration": 0.01664,
     "end_time": "2023-02-06T12:18:53.538546",
     "exception": false,
     "start_time": "2023-02-06T12:18:53.521906",
     "status": "completed"
    },
    "tags": []
   },
   "source": [
    "Imputing cat null values with Most_frequent"
   ]
  },
  {
   "cell_type": "code",
   "execution_count": 15,
   "id": "22294c8f",
   "metadata": {
    "execution": {
     "iopub.execute_input": "2023-02-06T12:18:53.572825Z",
     "iopub.status.busy": "2023-02-06T12:18:53.572228Z",
     "iopub.status.idle": "2023-02-06T12:18:53.819901Z",
     "shell.execute_reply": "2023-02-06T12:18:53.819056Z"
    },
    "id": "CXHRVF0ql_Hv",
    "papermill": {
     "duration": 0.267008,
     "end_time": "2023-02-06T12:18:53.822008",
     "exception": false,
     "start_time": "2023-02-06T12:18:53.555000",
     "status": "completed"
    },
    "tags": []
   },
   "outputs": [],
   "source": [
    "#cat_train=cat_train.fillna(cat_train.mode())\n",
    "from sklearn.impute import SimpleImputer\n",
    "im=SimpleImputer(strategy='most_frequent')\n",
    "m=im.fit_transform(cat_train)"
   ]
  },
  {
   "cell_type": "code",
   "execution_count": 16,
   "id": "9102b16e",
   "metadata": {
    "execution": {
     "iopub.execute_input": "2023-02-06T12:18:53.856155Z",
     "iopub.status.busy": "2023-02-06T12:18:53.855505Z",
     "iopub.status.idle": "2023-02-06T12:18:53.861396Z",
     "shell.execute_reply": "2023-02-06T12:18:53.860485Z"
    },
    "id": "CfIPAr2qx38G",
    "outputId": "fc85fc07-d2d1-484b-a64d-eeb3c8fbb28e",
    "papermill": {
     "duration": 0.024877,
     "end_time": "2023-02-06T12:18:53.863346",
     "exception": false,
     "start_time": "2023-02-06T12:18:53.838469",
     "status": "completed"
    },
    "tags": []
   },
   "outputs": [
    {
     "data": {
      "text/plain": [
       "(9806, 10)"
      ]
     },
     "execution_count": 16,
     "metadata": {},
     "output_type": "execute_result"
    }
   ],
   "source": [
    "m.shape"
   ]
  },
  {
   "cell_type": "code",
   "execution_count": 17,
   "id": "055be061",
   "metadata": {
    "execution": {
     "iopub.execute_input": "2023-02-06T12:18:53.897517Z",
     "iopub.status.busy": "2023-02-06T12:18:53.896779Z",
     "iopub.status.idle": "2023-02-06T12:18:53.903497Z",
     "shell.execute_reply": "2023-02-06T12:18:53.902706Z"
    },
    "id": "umbXOWF4pNLR",
    "papermill": {
     "duration": 0.025825,
     "end_time": "2023-02-06T12:18:53.905525",
     "exception": false,
     "start_time": "2023-02-06T12:18:53.879700",
     "status": "completed"
    },
    "tags": []
   },
   "outputs": [],
   "source": [
    "cat_train=pd.DataFrame(m,columns=cat_cols)"
   ]
  },
  {
   "cell_type": "code",
   "execution_count": 18,
   "id": "1cdbd4b7",
   "metadata": {
    "execution": {
     "iopub.execute_input": "2023-02-06T12:18:53.939574Z",
     "iopub.status.busy": "2023-02-06T12:18:53.939305Z",
     "iopub.status.idle": "2023-02-06T12:18:53.949831Z",
     "shell.execute_reply": "2023-02-06T12:18:53.948887Z"
    },
    "id": "G1mCnN-0m_7T",
    "outputId": "6daccfda-e1dc-4b44-fabc-30b908a46030",
    "papermill": {
     "duration": 0.029889,
     "end_time": "2023-02-06T12:18:53.951774",
     "exception": false,
     "start_time": "2023-02-06T12:18:53.921885",
     "status": "completed"
    },
    "tags": []
   },
   "outputs": [
    {
     "data": {
      "text/plain": [
       "Coverage            0\n",
       "Education           0\n",
       "EmploymentStatus    0\n",
       "Gender              0\n",
       "Marital.Status      0\n",
       "Policy.Type         0\n",
       "Policy              0\n",
       "Renew.Offer.Type    0\n",
       "Sales.Channel       0\n",
       "Vehicle.Class       0\n",
       "dtype: int64"
      ]
     },
     "execution_count": 18,
     "metadata": {},
     "output_type": "execute_result"
    }
   ],
   "source": [
    "cat_train.isnull().sum()"
   ]
  },
  {
   "cell_type": "code",
   "execution_count": 19,
   "id": "6049f0f3",
   "metadata": {
    "execution": {
     "iopub.execute_input": "2023-02-06T12:18:53.986088Z",
     "iopub.status.busy": "2023-02-06T12:18:53.985077Z",
     "iopub.status.idle": "2023-02-06T12:18:53.991180Z",
     "shell.execute_reply": "2023-02-06T12:18:53.990263Z"
    },
    "id": "wG00V3vcpgov",
    "outputId": "9e756132-93d8-4948-cb2b-dee5dd9c2f35",
    "papermill": {
     "duration": 0.025045,
     "end_time": "2023-02-06T12:18:53.993060",
     "exception": false,
     "start_time": "2023-02-06T12:18:53.968015",
     "status": "completed"
    },
    "tags": []
   },
   "outputs": [
    {
     "data": {
      "text/plain": [
       "(9806, 10)"
      ]
     },
     "execution_count": 19,
     "metadata": {},
     "output_type": "execute_result"
    }
   ],
   "source": [
    "cat_train.shape"
   ]
  },
  {
   "cell_type": "markdown",
   "id": "78579ed6",
   "metadata": {
    "id": "ue6YalgQquLz",
    "papermill": {
     "duration": 0.01651,
     "end_time": "2023-02-06T12:18:54.025904",
     "exception": false,
     "start_time": "2023-02-06T12:18:54.009394",
     "status": "completed"
    },
    "tags": []
   },
   "source": [
    "Convert cat variables in to num variable"
   ]
  },
  {
   "cell_type": "code",
   "execution_count": 20,
   "id": "567fe3d8",
   "metadata": {
    "execution": {
     "iopub.execute_input": "2023-02-06T12:18:54.060454Z",
     "iopub.status.busy": "2023-02-06T12:18:54.059725Z",
     "iopub.status.idle": "2023-02-06T12:18:54.097243Z",
     "shell.execute_reply": "2023-02-06T12:18:54.096278Z"
    },
    "id": "jy8nYlcErqO-",
    "outputId": "eb8972f7-c5f0-479e-dcbd-584e7c58b0aa",
    "papermill": {
     "duration": 0.056687,
     "end_time": "2023-02-06T12:18:54.099244",
     "exception": false,
     "start_time": "2023-02-06T12:18:54.042557",
     "status": "completed"
    },
    "tags": []
   },
   "outputs": [
    {
     "data": {
      "text/plain": [
       "(9806, 44)"
      ]
     },
     "execution_count": 20,
     "metadata": {},
     "output_type": "execute_result"
    }
   ],
   "source": [
    "from sklearn.preprocessing import OneHotEncoder\n",
    "ohe = OneHotEncoder(sparse=True)\n",
    "\n",
    "result = ohe.fit_transform(cat_train).toarray()\n",
    "result.shape\n",
    "#print(ohe.categories_)\n",
    "#print(result)"
   ]
  },
  {
   "cell_type": "code",
   "execution_count": 21,
   "id": "833ae4d0",
   "metadata": {
    "execution": {
     "iopub.execute_input": "2023-02-06T12:18:54.133753Z",
     "iopub.status.busy": "2023-02-06T12:18:54.133403Z",
     "iopub.status.idle": "2023-02-06T12:18:54.140765Z",
     "shell.execute_reply": "2023-02-06T12:18:54.139764Z"
    },
    "id": "uaEHHtGMrv7W",
    "outputId": "ae0f0cd7-133f-4a86-e8f7-f408179fce9c",
    "papermill": {
     "duration": 0.027186,
     "end_time": "2023-02-06T12:18:54.142886",
     "exception": false,
     "start_time": "2023-02-06T12:18:54.115700",
     "status": "completed"
    },
    "tags": []
   },
   "outputs": [
    {
     "data": {
      "text/plain": [
       "(9806, 44)"
      ]
     },
     "execution_count": 21,
     "metadata": {},
     "output_type": "execute_result"
    }
   ],
   "source": [
    "cat=pd.DataFrame(result,columns=ohe.get_feature_names_out())\n",
    "cat.shape"
   ]
  },
  {
   "cell_type": "code",
   "execution_count": 22,
   "id": "d0354694",
   "metadata": {
    "execution": {
     "iopub.execute_input": "2023-02-06T12:18:54.186509Z",
     "iopub.status.busy": "2023-02-06T12:18:54.185638Z",
     "iopub.status.idle": "2023-02-06T12:18:54.197981Z",
     "shell.execute_reply": "2023-02-06T12:18:54.196771Z"
    },
    "id": "mndpAk6_w1nB",
    "outputId": "d50abf51-113a-4716-94b0-7bdad8e02767",
    "papermill": {
     "duration": 0.036087,
     "end_time": "2023-02-06T12:18:54.200516",
     "exception": false,
     "start_time": "2023-02-06T12:18:54.164429",
     "status": "completed"
    },
    "tags": []
   },
   "outputs": [
    {
     "data": {
      "text/plain": [
       "(9806, 51)"
      ]
     },
     "execution_count": 22,
     "metadata": {},
     "output_type": "execute_result"
    }
   ],
   "source": [
    "x=pd.concat([cat,numeric],axis=1)\n",
    "x.shape"
   ]
  },
  {
   "cell_type": "code",
   "execution_count": null,
   "id": "84fa6baf",
   "metadata": {
    "id": "EgBgAZIrxij1",
    "outputId": "d70c216f-c093-4f7a-9e41-194e298af8a6",
    "papermill": {
     "duration": 0.018318,
     "end_time": "2023-02-06T12:18:54.239837",
     "exception": false,
     "start_time": "2023-02-06T12:18:54.221519",
     "status": "completed"
    },
    "tags": []
   },
   "outputs": [],
   "source": []
  },
  {
   "cell_type": "code",
   "execution_count": 23,
   "id": "e0484511",
   "metadata": {
    "execution": {
     "iopub.execute_input": "2023-02-06T12:18:54.275665Z",
     "iopub.status.busy": "2023-02-06T12:18:54.275406Z",
     "iopub.status.idle": "2023-02-06T12:18:54.290787Z",
     "shell.execute_reply": "2023-02-06T12:18:54.289787Z"
    },
    "id": "xljb-j4Myubn",
    "outputId": "199415f2-f689-4fc4-bed6-8198f1edbd7f",
    "papermill": {
     "duration": 0.034885,
     "end_time": "2023-02-06T12:18:54.292755",
     "exception": false,
     "start_time": "2023-02-06T12:18:54.257870",
     "status": "completed"
    },
    "tags": []
   },
   "outputs": [
    {
     "name": "stdout",
     "output_type": "stream",
     "text": [
      "(6864, 51)\n",
      "(2942, 51)\n",
      "(6864,)\n",
      "(2942,)\n"
     ]
    }
   ],
   "source": [
    "from sklearn.model_selection import train_test_split\n",
    "x_train, x_test, y_train, y_test = train_test_split(x, y, test_size = 0.3, random_state=2323)\n",
    "\n",
    "print(x_train.shape)\n",
    "print(x_test.shape)\n",
    "print(y_train.shape)\n",
    "print(y_test.shape)\n"
   ]
  },
  {
   "cell_type": "code",
   "execution_count": 24,
   "id": "6afa792b",
   "metadata": {
    "execution": {
     "iopub.execute_input": "2023-02-06T12:18:54.328133Z",
     "iopub.status.busy": "2023-02-06T12:18:54.327329Z",
     "iopub.status.idle": "2023-02-06T12:18:54.351512Z",
     "shell.execute_reply": "2023-02-06T12:18:54.350555Z"
    },
    "papermill": {
     "duration": 0.043702,
     "end_time": "2023-02-06T12:18:54.353393",
     "exception": false,
     "start_time": "2023-02-06T12:18:54.309691",
     "status": "completed"
    },
    "tags": []
   },
   "outputs": [
    {
     "data": {
      "text/html": [
       "<div>\n",
       "<style scoped>\n",
       "    .dataframe tbody tr th:only-of-type {\n",
       "        vertical-align: middle;\n",
       "    }\n",
       "\n",
       "    .dataframe tbody tr th {\n",
       "        vertical-align: top;\n",
       "    }\n",
       "\n",
       "    .dataframe thead th {\n",
       "        text-align: right;\n",
       "    }\n",
       "</style>\n",
       "<table border=\"1\" class=\"dataframe\">\n",
       "  <thead>\n",
       "    <tr style=\"text-align: right;\">\n",
       "      <th></th>\n",
       "      <th>Coverage_Basic</th>\n",
       "      <th>Coverage_Extended</th>\n",
       "      <th>Coverage_Premium</th>\n",
       "      <th>Education_Bachelor</th>\n",
       "      <th>Education_College</th>\n",
       "      <th>Education_Doctor</th>\n",
       "      <th>Education_High School or Below</th>\n",
       "      <th>Education_Master</th>\n",
       "      <th>EmploymentStatus_Disabled</th>\n",
       "      <th>EmploymentStatus_Employed</th>\n",
       "      <th>...</th>\n",
       "      <th>Vehicle.Class_SUV</th>\n",
       "      <th>Vehicle.Class_Sports Car</th>\n",
       "      <th>Vehicle.Class_Two-Door Car</th>\n",
       "      <th>Income</th>\n",
       "      <th>Monthly.Premium.Auto</th>\n",
       "      <th>Months.Since.Last.Claim</th>\n",
       "      <th>Months.Since.Policy.Inception</th>\n",
       "      <th>Number.of.Open.Complaints</th>\n",
       "      <th>Number.of.Policies</th>\n",
       "      <th>Total.Claim.Amount</th>\n",
       "    </tr>\n",
       "  </thead>\n",
       "  <tbody>\n",
       "    <tr>\n",
       "      <th>4404</th>\n",
       "      <td>1.0</td>\n",
       "      <td>0.0</td>\n",
       "      <td>0.0</td>\n",
       "      <td>1.0</td>\n",
       "      <td>0.0</td>\n",
       "      <td>0.0</td>\n",
       "      <td>0.0</td>\n",
       "      <td>0.0</td>\n",
       "      <td>0.0</td>\n",
       "      <td>1.0</td>\n",
       "      <td>...</td>\n",
       "      <td>0.0</td>\n",
       "      <td>0.0</td>\n",
       "      <td>0.0</td>\n",
       "      <td>74015.0</td>\n",
       "      <td>72.0</td>\n",
       "      <td>12</td>\n",
       "      <td>61</td>\n",
       "      <td>0.000000</td>\n",
       "      <td>6.000000</td>\n",
       "      <td>471.443077</td>\n",
       "    </tr>\n",
       "    <tr>\n",
       "      <th>356</th>\n",
       "      <td>0.0</td>\n",
       "      <td>1.0</td>\n",
       "      <td>0.0</td>\n",
       "      <td>0.0</td>\n",
       "      <td>0.0</td>\n",
       "      <td>0.0</td>\n",
       "      <td>1.0</td>\n",
       "      <td>0.0</td>\n",
       "      <td>0.0</td>\n",
       "      <td>0.0</td>\n",
       "      <td>...</td>\n",
       "      <td>0.0</td>\n",
       "      <td>1.0</td>\n",
       "      <td>0.0</td>\n",
       "      <td>0.0</td>\n",
       "      <td>124.0</td>\n",
       "      <td>2</td>\n",
       "      <td>85</td>\n",
       "      <td>0.000000</td>\n",
       "      <td>2.000000</td>\n",
       "      <td>928.817071</td>\n",
       "    </tr>\n",
       "    <tr>\n",
       "      <th>9652</th>\n",
       "      <td>0.0</td>\n",
       "      <td>1.0</td>\n",
       "      <td>0.0</td>\n",
       "      <td>1.0</td>\n",
       "      <td>0.0</td>\n",
       "      <td>0.0</td>\n",
       "      <td>0.0</td>\n",
       "      <td>0.0</td>\n",
       "      <td>0.0</td>\n",
       "      <td>0.0</td>\n",
       "      <td>...</td>\n",
       "      <td>0.0</td>\n",
       "      <td>0.0</td>\n",
       "      <td>0.0</td>\n",
       "      <td>13088.0</td>\n",
       "      <td>82.0</td>\n",
       "      <td>29</td>\n",
       "      <td>77</td>\n",
       "      <td>0.379172</td>\n",
       "      <td>3.000000</td>\n",
       "      <td>393.600000</td>\n",
       "    </tr>\n",
       "    <tr>\n",
       "      <th>7371</th>\n",
       "      <td>0.0</td>\n",
       "      <td>1.0</td>\n",
       "      <td>0.0</td>\n",
       "      <td>1.0</td>\n",
       "      <td>0.0</td>\n",
       "      <td>0.0</td>\n",
       "      <td>0.0</td>\n",
       "      <td>0.0</td>\n",
       "      <td>0.0</td>\n",
       "      <td>1.0</td>\n",
       "      <td>...</td>\n",
       "      <td>0.0</td>\n",
       "      <td>0.0</td>\n",
       "      <td>0.0</td>\n",
       "      <td>34919.0</td>\n",
       "      <td>78.0</td>\n",
       "      <td>0</td>\n",
       "      <td>82</td>\n",
       "      <td>0.000000</td>\n",
       "      <td>2.960351</td>\n",
       "      <td>344.767795</td>\n",
       "    </tr>\n",
       "    <tr>\n",
       "      <th>7942</th>\n",
       "      <td>1.0</td>\n",
       "      <td>0.0</td>\n",
       "      <td>0.0</td>\n",
       "      <td>1.0</td>\n",
       "      <td>0.0</td>\n",
       "      <td>0.0</td>\n",
       "      <td>0.0</td>\n",
       "      <td>0.0</td>\n",
       "      <td>0.0</td>\n",
       "      <td>0.0</td>\n",
       "      <td>...</td>\n",
       "      <td>0.0</td>\n",
       "      <td>0.0</td>\n",
       "      <td>0.0</td>\n",
       "      <td>24910.0</td>\n",
       "      <td>63.0</td>\n",
       "      <td>7</td>\n",
       "      <td>63</td>\n",
       "      <td>1.000000</td>\n",
       "      <td>1.000000</td>\n",
       "      <td>347.857619</td>\n",
       "    </tr>\n",
       "  </tbody>\n",
       "</table>\n",
       "<p>5 rows × 51 columns</p>\n",
       "</div>"
      ],
      "text/plain": [
       "      Coverage_Basic  Coverage_Extended  Coverage_Premium  Education_Bachelor  \\\n",
       "4404             1.0                0.0               0.0                 1.0   \n",
       "356              0.0                1.0               0.0                 0.0   \n",
       "9652             0.0                1.0               0.0                 1.0   \n",
       "7371             0.0                1.0               0.0                 1.0   \n",
       "7942             1.0                0.0               0.0                 1.0   \n",
       "\n",
       "      Education_College  Education_Doctor  Education_High School or Below  \\\n",
       "4404                0.0               0.0                             0.0   \n",
       "356                 0.0               0.0                             1.0   \n",
       "9652                0.0               0.0                             0.0   \n",
       "7371                0.0               0.0                             0.0   \n",
       "7942                0.0               0.0                             0.0   \n",
       "\n",
       "      Education_Master  EmploymentStatus_Disabled  EmploymentStatus_Employed  \\\n",
       "4404               0.0                        0.0                        1.0   \n",
       "356                0.0                        0.0                        0.0   \n",
       "9652               0.0                        0.0                        0.0   \n",
       "7371               0.0                        0.0                        1.0   \n",
       "7942               0.0                        0.0                        0.0   \n",
       "\n",
       "      ...  Vehicle.Class_SUV  Vehicle.Class_Sports Car  \\\n",
       "4404  ...                0.0                       0.0   \n",
       "356   ...                0.0                       1.0   \n",
       "9652  ...                0.0                       0.0   \n",
       "7371  ...                0.0                       0.0   \n",
       "7942  ...                0.0                       0.0   \n",
       "\n",
       "      Vehicle.Class_Two-Door Car   Income  Monthly.Premium.Auto  \\\n",
       "4404                         0.0  74015.0                  72.0   \n",
       "356                          0.0      0.0                 124.0   \n",
       "9652                         0.0  13088.0                  82.0   \n",
       "7371                         0.0  34919.0                  78.0   \n",
       "7942                         0.0  24910.0                  63.0   \n",
       "\n",
       "      Months.Since.Last.Claim  Months.Since.Policy.Inception  \\\n",
       "4404                       12                             61   \n",
       "356                         2                             85   \n",
       "9652                       29                             77   \n",
       "7371                        0                             82   \n",
       "7942                        7                             63   \n",
       "\n",
       "      Number.of.Open.Complaints  Number.of.Policies  Total.Claim.Amount  \n",
       "4404                   0.000000            6.000000          471.443077  \n",
       "356                    0.000000            2.000000          928.817071  \n",
       "9652                   0.379172            3.000000          393.600000  \n",
       "7371                   0.000000            2.960351          344.767795  \n",
       "7942                   1.000000            1.000000          347.857619  \n",
       "\n",
       "[5 rows x 51 columns]"
      ]
     },
     "execution_count": 24,
     "metadata": {},
     "output_type": "execute_result"
    }
   ],
   "source": [
    "x_train.head()"
   ]
  },
  {
   "cell_type": "code",
   "execution_count": 25,
   "id": "85f683bf",
   "metadata": {
    "execution": {
     "iopub.execute_input": "2023-02-06T12:18:54.389397Z",
     "iopub.status.busy": "2023-02-06T12:18:54.388556Z",
     "iopub.status.idle": "2023-02-06T12:18:54.424122Z",
     "shell.execute_reply": "2023-02-06T12:18:54.422958Z"
    },
    "id": "dp74Ycw0zWR2",
    "papermill": {
     "duration": 0.056693,
     "end_time": "2023-02-06T12:18:54.427266",
     "exception": false,
     "start_time": "2023-02-06T12:18:54.370573",
     "status": "completed"
    },
    "tags": []
   },
   "outputs": [],
   "source": [
    "from sklearn.linear_model import LinearRegression\n",
    "model= LinearRegression()\n",
    "train=model.fit(x_train,y_train)"
   ]
  },
  {
   "cell_type": "code",
   "execution_count": 26,
   "id": "8f1699a4",
   "metadata": {
    "execution": {
     "iopub.execute_input": "2023-02-06T12:18:54.518588Z",
     "iopub.status.busy": "2023-02-06T12:18:54.518141Z",
     "iopub.status.idle": "2023-02-06T12:18:54.540226Z",
     "shell.execute_reply": "2023-02-06T12:18:54.539127Z"
    },
    "id": "svd1EMMlzZxD",
    "papermill": {
     "duration": 0.071407,
     "end_time": "2023-02-06T12:18:54.543306",
     "exception": false,
     "start_time": "2023-02-06T12:18:54.471899",
     "status": "completed"
    },
    "tags": []
   },
   "outputs": [],
   "source": [
    "predtrain=model.predict(x_train)\n",
    "predtest=model.predict(x_test)"
   ]
  },
  {
   "cell_type": "code",
   "execution_count": 27,
   "id": "9bddee43",
   "metadata": {
    "execution": {
     "iopub.execute_input": "2023-02-06T12:18:54.637873Z",
     "iopub.status.busy": "2023-02-06T12:18:54.637419Z",
     "iopub.status.idle": "2023-02-06T12:18:54.642508Z",
     "shell.execute_reply": "2023-02-06T12:18:54.641586Z"
    },
    "id": "w4Dv9LIsztBP",
    "papermill": {
     "duration": 0.057319,
     "end_time": "2023-02-06T12:18:54.645671",
     "exception": false,
     "start_time": "2023-02-06T12:18:54.588352",
     "status": "completed"
    },
    "tags": []
   },
   "outputs": [],
   "source": [
    "from sklearn.metrics import mean_squared_error"
   ]
  },
  {
   "cell_type": "code",
   "execution_count": 28,
   "id": "be23ac4e",
   "metadata": {
    "execution": {
     "iopub.execute_input": "2023-02-06T12:18:54.698754Z",
     "iopub.status.busy": "2023-02-06T12:18:54.698487Z",
     "iopub.status.idle": "2023-02-06T12:18:54.705132Z",
     "shell.execute_reply": "2023-02-06T12:18:54.704071Z"
    },
    "id": "9C-dcqjUzwGL",
    "outputId": "994826b5-031a-486d-e64e-2e1e48af7004",
    "papermill": {
     "duration": 0.02752,
     "end_time": "2023-02-06T12:18:54.707312",
     "exception": false,
     "start_time": "2023-02-06T12:18:54.679792",
     "status": "completed"
    },
    "tags": []
   },
   "outputs": [
    {
     "name": "stdout",
     "output_type": "stream",
     "text": [
      "RMSE for train: 6342.383862505862\n",
      "RMSE for test: 6038.47780033619\n"
     ]
    }
   ],
   "source": [
    "print(\"RMSE for train:\",np.sqrt(mean_squared_error(y_train,predtrain)))\n",
    "print(\"RMSE for test:\",np.sqrt(mean_squared_error(y_test,predtest)))\n"
   ]
  },
  {
   "cell_type": "code",
   "execution_count": 29,
   "id": "c7bf8e5b",
   "metadata": {
    "execution": {
     "iopub.execute_input": "2023-02-06T12:18:54.743449Z",
     "iopub.status.busy": "2023-02-06T12:18:54.742621Z",
     "iopub.status.idle": "2023-02-06T12:19:00.105948Z",
     "shell.execute_reply": "2023-02-06T12:19:00.104992Z"
    },
    "id": "E1P0kTg34Vcu",
    "papermill": {
     "duration": 5.383948,
     "end_time": "2023-02-06T12:19:00.108643",
     "exception": false,
     "start_time": "2023-02-06T12:18:54.724695",
     "status": "completed"
    },
    "tags": []
   },
   "outputs": [],
   "source": [
    "from sklearn.ensemble import RandomForestRegressor\n",
    "r=RandomForestRegressor()\n",
    "r.fit(x_train,y_train)\n",
    "r_predtest=r.predict(x_test)\n",
    "r_predtrain=r.predict(x_train)"
   ]
  },
  {
   "cell_type": "code",
   "execution_count": 30,
   "id": "238f7926",
   "metadata": {
    "execution": {
     "iopub.execute_input": "2023-02-06T12:19:00.145403Z",
     "iopub.status.busy": "2023-02-06T12:19:00.145109Z",
     "iopub.status.idle": "2023-02-06T12:19:00.152510Z",
     "shell.execute_reply": "2023-02-06T12:19:00.150950Z"
    },
    "id": "hdc-a5LP4y5O",
    "outputId": "4ab01a31-1085-440a-be02-ef85bf544ecf",
    "papermill": {
     "duration": 0.027995,
     "end_time": "2023-02-06T12:19:00.154953",
     "exception": false,
     "start_time": "2023-02-06T12:19:00.126958",
     "status": "completed"
    },
    "tags": []
   },
   "outputs": [
    {
     "name": "stdout",
     "output_type": "stream",
     "text": [
      "RMSE for train: 1505.1824579445413\n",
      "RMSE for test: 3735.0358979282996\n"
     ]
    }
   ],
   "source": [
    "print(\"RMSE for train:\",np.sqrt(mean_squared_error(y_train,r_predtrain)))\n",
    "print(\"RMSE for test:\",np.sqrt(mean_squared_error(y_test,r_predtest)))"
   ]
  },
  {
   "cell_type": "code",
   "execution_count": 31,
   "id": "c431af96",
   "metadata": {
    "execution": {
     "iopub.execute_input": "2023-02-06T12:19:00.192888Z",
     "iopub.status.busy": "2023-02-06T12:19:00.192081Z",
     "iopub.status.idle": "2023-02-06T12:19:01.507307Z",
     "shell.execute_reply": "2023-02-06T12:19:01.506332Z"
    },
    "id": "IMfrDmTs43FI",
    "papermill": {
     "duration": 1.336178,
     "end_time": "2023-02-06T12:19:01.509672",
     "exception": false,
     "start_time": "2023-02-06T12:19:00.173494",
     "status": "completed"
    },
    "tags": []
   },
   "outputs": [],
   "source": [
    "from sklearn.neighbors import KNeighborsRegressor\n",
    "k=KNeighborsRegressor()\n",
    "k.fit(x_train,y_train)\n",
    "k_predtest=k.predict(x_test)\n",
    "k_predtrain=k.predict(x_train)"
   ]
  },
  {
   "cell_type": "code",
   "execution_count": 32,
   "id": "034a4b12",
   "metadata": {
    "execution": {
     "iopub.execute_input": "2023-02-06T12:19:01.546635Z",
     "iopub.status.busy": "2023-02-06T12:19:01.546344Z",
     "iopub.status.idle": "2023-02-06T12:19:01.554329Z",
     "shell.execute_reply": "2023-02-06T12:19:01.553218Z"
    },
    "id": "qYtNSoxT5B-F",
    "outputId": "2e993949-ed06-4505-d3f7-01ebae431d04",
    "papermill": {
     "duration": 0.029334,
     "end_time": "2023-02-06T12:19:01.556840",
     "exception": false,
     "start_time": "2023-02-06T12:19:01.527506",
     "status": "completed"
    },
    "tags": []
   },
   "outputs": [
    {
     "name": "stdout",
     "output_type": "stream",
     "text": [
      "RMSE for train: 5577.311864801577\n",
      "RMSE for test: 6451.928473463964\n"
     ]
    }
   ],
   "source": [
    "print(\"RMSE for train:\",np.sqrt(mean_squared_error(y_train,k_predtrain)))\n",
    "print(\"RMSE for test:\",np.sqrt(mean_squared_error(y_test,k_predtest)))"
   ]
  },
  {
   "cell_type": "code",
   "execution_count": 33,
   "id": "f973862d",
   "metadata": {
    "execution": {
     "iopub.execute_input": "2023-02-06T12:19:01.594840Z",
     "iopub.status.busy": "2023-02-06T12:19:01.593963Z",
     "iopub.status.idle": "2023-02-06T12:19:01.679205Z",
     "shell.execute_reply": "2023-02-06T12:19:01.678365Z"
    },
    "id": "rJnEq4JkhHZF",
    "papermill": {
     "duration": 0.106049,
     "end_time": "2023-02-06T12:19:01.681248",
     "exception": false,
     "start_time": "2023-02-06T12:19:01.575199",
     "status": "completed"
    },
    "tags": []
   },
   "outputs": [],
   "source": [
    "from sklearn.tree import DecisionTreeRegressor\n",
    "\n",
    "d=DecisionTreeRegressor()\n",
    "d.fit(x_train,y_train)\n",
    "d_predtest=d.predict(x_test)\n",
    "d_predtrain=d.predict(x_train)"
   ]
  },
  {
   "cell_type": "code",
   "execution_count": 34,
   "id": "1c75b57c",
   "metadata": {
    "execution": {
     "iopub.execute_input": "2023-02-06T12:19:01.720541Z",
     "iopub.status.busy": "2023-02-06T12:19:01.719959Z",
     "iopub.status.idle": "2023-02-06T12:19:01.732528Z",
     "shell.execute_reply": "2023-02-06T12:19:01.731253Z"
    },
    "id": "acx_LYrViBSs",
    "outputId": "a4c665a0-fb4a-4120-b813-e15454121192",
    "papermill": {
     "duration": 0.035548,
     "end_time": "2023-02-06T12:19:01.734542",
     "exception": false,
     "start_time": "2023-02-06T12:19:01.698994",
     "status": "completed"
    },
    "tags": []
   },
   "outputs": [
    {
     "name": "stdout",
     "output_type": "stream",
     "text": [
      "RMSE for train: 1.4239314178436154e-13\n",
      "RMSE for test: 5637.277788527118\n"
     ]
    }
   ],
   "source": [
    "print(\"RMSE for train:\",np.sqrt(mean_squared_error(y_train,d_predtrain)))\n",
    "print(\"RMSE for test:\",np.sqrt(mean_squared_error(y_test,d_predtest)))"
   ]
  },
  {
   "cell_type": "code",
   "execution_count": 35,
   "id": "63af14ab",
   "metadata": {
    "execution": {
     "iopub.execute_input": "2023-02-06T12:19:01.770983Z",
     "iopub.status.busy": "2023-02-06T12:19:01.770134Z",
     "iopub.status.idle": "2023-02-06T12:19:01.878033Z",
     "shell.execute_reply": "2023-02-06T12:19:01.876885Z"
    },
    "id": "jJejdbbSiKf2",
    "papermill": {
     "duration": 0.129196,
     "end_time": "2023-02-06T12:19:01.881067",
     "exception": false,
     "start_time": "2023-02-06T12:19:01.751871",
     "status": "completed"
    },
    "tags": []
   },
   "outputs": [],
   "source": [
    "from sklearn.linear_model import Lasso\n",
    "ls=Lasso()\n",
    "ls.fit(x_train,y_train)\n",
    "ls_predtest=ls.predict(x_test)\n",
    "ls_predtrain=ls.predict(x_train)\n"
   ]
  },
  {
   "cell_type": "code",
   "execution_count": 36,
   "id": "a78c647a",
   "metadata": {
    "execution": {
     "iopub.execute_input": "2023-02-06T12:19:01.971444Z",
     "iopub.status.busy": "2023-02-06T12:19:01.971002Z",
     "iopub.status.idle": "2023-02-06T12:19:01.979887Z",
     "shell.execute_reply": "2023-02-06T12:19:01.977855Z"
    },
    "id": "2lnNClE3iKaB",
    "outputId": "a497c2bf-7a12-42db-c87a-501d007f3432",
    "papermill": {
     "duration": 0.05796,
     "end_time": "2023-02-06T12:19:01.983488",
     "exception": false,
     "start_time": "2023-02-06T12:19:01.925528",
     "status": "completed"
    },
    "tags": []
   },
   "outputs": [
    {
     "name": "stdout",
     "output_type": "stream",
     "text": [
      "RMSE for train: 6342.675002899714\n",
      "RMSE for test: 6037.841843548606\n"
     ]
    }
   ],
   "source": [
    "print(\"RMSE for train:\",np.sqrt(mean_squared_error(y_train,ls_predtrain)))\n",
    "print(\"RMSE for test:\",np.sqrt(mean_squared_error(y_test,ls_predtest)))"
   ]
  },
  {
   "cell_type": "code",
   "execution_count": 37,
   "id": "f1327368",
   "metadata": {
    "execution": {
     "iopub.execute_input": "2023-02-06T12:19:02.040311Z",
     "iopub.status.busy": "2023-02-06T12:19:02.040051Z",
     "iopub.status.idle": "2023-02-06T12:19:02.062133Z",
     "shell.execute_reply": "2023-02-06T12:19:02.060971Z"
    },
    "id": "mA1sVfZqiKIv",
    "papermill": {
     "duration": 0.044155,
     "end_time": "2023-02-06T12:19:02.065242",
     "exception": false,
     "start_time": "2023-02-06T12:19:02.021087",
     "status": "completed"
    },
    "tags": []
   },
   "outputs": [],
   "source": [
    "from sklearn.linear_model import Ridge\n",
    "r=Ridge()\n",
    "r.fit(x_train, y_train)\n",
    "r_predtest=r.predict(x_test)\n",
    "r_predtrain=r.predict(x_train)\n"
   ]
  },
  {
   "cell_type": "code",
   "execution_count": 38,
   "id": "ccb418eb",
   "metadata": {
    "execution": {
     "iopub.execute_input": "2023-02-06T12:19:02.157356Z",
     "iopub.status.busy": "2023-02-06T12:19:02.156885Z",
     "iopub.status.idle": "2023-02-06T12:19:02.165351Z",
     "shell.execute_reply": "2023-02-06T12:19:02.164296Z"
    },
    "id": "p3r3QGy0i8St",
    "outputId": "7aede176-a7d4-4aca-daf7-cffe86e4e89e",
    "papermill": {
     "duration": 0.057736,
     "end_time": "2023-02-06T12:19:02.168436",
     "exception": false,
     "start_time": "2023-02-06T12:19:02.110700",
     "status": "completed"
    },
    "tags": []
   },
   "outputs": [
    {
     "name": "stdout",
     "output_type": "stream",
     "text": [
      "RMSE for train: 6342.395224564514\n",
      "RMSE for test: 6038.219412196347\n"
     ]
    }
   ],
   "source": [
    "print(\"RMSE for train:\",np.sqrt(mean_squared_error(y_train,r_predtrain)))\n",
    "print(\"RMSE for test:\",np.sqrt(mean_squared_error(y_test,r_predtest)))"
   ]
  },
  {
   "cell_type": "markdown",
   "id": "d3656d5a",
   "metadata": {
    "id": "Zig6RUM7q9Nk",
    "papermill": {
     "duration": 0.017272,
     "end_time": "2023-02-06T12:19:02.218899",
     "exception": false,
     "start_time": "2023-02-06T12:19:02.201627",
     "status": "completed"
    },
    "tags": []
   },
   "source": [
    "Loading test dataset"
   ]
  },
  {
   "cell_type": "code",
   "execution_count": 39,
   "id": "02692143",
   "metadata": {
    "execution": {
     "iopub.execute_input": "2023-02-06T12:19:02.254815Z",
     "iopub.status.busy": "2023-02-06T12:19:02.254553Z",
     "iopub.status.idle": "2023-02-06T12:19:02.291237Z",
     "shell.execute_reply": "2023-02-06T12:19:02.290302Z"
    },
    "id": "Jr2SLM5e6n6D",
    "outputId": "361fd24f-42f1-41e0-f141-57bf4633a1fe",
    "papermill": {
     "duration": 0.056837,
     "end_time": "2023-02-06T12:19:02.293193",
     "exception": false,
     "start_time": "2023-02-06T12:19:02.236356",
     "status": "completed"
    },
    "tags": []
   },
   "outputs": [
    {
     "data": {
      "text/html": [
       "<div>\n",
       "<style scoped>\n",
       "    .dataframe tbody tr th:only-of-type {\n",
       "        vertical-align: middle;\n",
       "    }\n",
       "\n",
       "    .dataframe tbody tr th {\n",
       "        vertical-align: top;\n",
       "    }\n",
       "\n",
       "    .dataframe thead th {\n",
       "        text-align: right;\n",
       "    }\n",
       "</style>\n",
       "<table border=\"1\" class=\"dataframe\">\n",
       "  <thead>\n",
       "    <tr style=\"text-align: right;\">\n",
       "      <th></th>\n",
       "      <th>CustomerID</th>\n",
       "      <th>Coverage</th>\n",
       "      <th>Education</th>\n",
       "      <th>EmploymentStatus</th>\n",
       "      <th>Gender</th>\n",
       "      <th>Income</th>\n",
       "      <th>Location.Geo</th>\n",
       "      <th>Location.Code</th>\n",
       "      <th>Marital.Status</th>\n",
       "      <th>Monthly.Premium.Auto</th>\n",
       "      <th>...</th>\n",
       "      <th>Months.Since.Policy.Inception</th>\n",
       "      <th>Number.of.Open.Complaints</th>\n",
       "      <th>Number.of.Policies</th>\n",
       "      <th>Policy.Type</th>\n",
       "      <th>Policy</th>\n",
       "      <th>Renew.Offer.Type</th>\n",
       "      <th>Sales.Channel</th>\n",
       "      <th>Total.Claim.Amount</th>\n",
       "      <th>Vehicle.Class</th>\n",
       "      <th>Vehicle.Size</th>\n",
       "    </tr>\n",
       "  </thead>\n",
       "  <tbody>\n",
       "    <tr>\n",
       "      <th>0</th>\n",
       "      <td>17</td>\n",
       "      <td>Basic</td>\n",
       "      <td>Bachelor</td>\n",
       "      <td>Employed</td>\n",
       "      <td>M</td>\n",
       "      <td>43836.0</td>\n",
       "      <td>12.6,79.4</td>\n",
       "      <td>Rural</td>\n",
       "      <td>Single</td>\n",
       "      <td>73.0</td>\n",
       "      <td>...</td>\n",
       "      <td>44</td>\n",
       "      <td>0</td>\n",
       "      <td>1</td>\n",
       "      <td>Personal Auto</td>\n",
       "      <td>Personal L1</td>\n",
       "      <td>Offer1</td>\n",
       "      <td>Agent</td>\n",
       "      <td>138.130879</td>\n",
       "      <td>Four-Door Car</td>\n",
       "      <td>Medsize</td>\n",
       "    </tr>\n",
       "    <tr>\n",
       "      <th>1</th>\n",
       "      <td>19</td>\n",
       "      <td>Extended</td>\n",
       "      <td>College</td>\n",
       "      <td>Employed</td>\n",
       "      <td>F</td>\n",
       "      <td>28812.0</td>\n",
       "      <td>17.3,78.4</td>\n",
       "      <td>Urban</td>\n",
       "      <td>Married</td>\n",
       "      <td>93.0</td>\n",
       "      <td>...</td>\n",
       "      <td>7</td>\n",
       "      <td>0</td>\n",
       "      <td>8</td>\n",
       "      <td>Special Auto</td>\n",
       "      <td>Special L2</td>\n",
       "      <td>Offer2</td>\n",
       "      <td>Branch</td>\n",
       "      <td>425.527834</td>\n",
       "      <td>Four-Door Car</td>\n",
       "      <td>Medsize</td>\n",
       "    </tr>\n",
       "    <tr>\n",
       "      <th>2</th>\n",
       "      <td>29</td>\n",
       "      <td>Premium</td>\n",
       "      <td>Master</td>\n",
       "      <td>Employed</td>\n",
       "      <td>M</td>\n",
       "      <td>77026.0</td>\n",
       "      <td>18.4,73.5</td>\n",
       "      <td>Urban</td>\n",
       "      <td>Married</td>\n",
       "      <td>110.0</td>\n",
       "      <td>...</td>\n",
       "      <td>82</td>\n",
       "      <td>2</td>\n",
       "      <td>3</td>\n",
       "      <td>Corporate Auto</td>\n",
       "      <td>Corporate L1</td>\n",
       "      <td>Offer2</td>\n",
       "      <td>Agent</td>\n",
       "      <td>472.029737</td>\n",
       "      <td>Four-Door Car</td>\n",
       "      <td>Medsize</td>\n",
       "    </tr>\n",
       "    <tr>\n",
       "      <th>3</th>\n",
       "      <td>34</td>\n",
       "      <td>Basic</td>\n",
       "      <td>Bachelor</td>\n",
       "      <td>Employed</td>\n",
       "      <td>F</td>\n",
       "      <td>24599.0</td>\n",
       "      <td>17.1,78.2</td>\n",
       "      <td>Rural</td>\n",
       "      <td>Married</td>\n",
       "      <td>64.0</td>\n",
       "      <td>...</td>\n",
       "      <td>50</td>\n",
       "      <td>1</td>\n",
       "      <td>2</td>\n",
       "      <td>Corporate Auto</td>\n",
       "      <td>Corporate L2</td>\n",
       "      <td>Offer2</td>\n",
       "      <td>Branch</td>\n",
       "      <td>42.920271</td>\n",
       "      <td>Four-Door Car</td>\n",
       "      <td>Medsize</td>\n",
       "    </tr>\n",
       "    <tr>\n",
       "      <th>4</th>\n",
       "      <td>37</td>\n",
       "      <td>Extended</td>\n",
       "      <td>Bachelor</td>\n",
       "      <td>Disabled</td>\n",
       "      <td>F</td>\n",
       "      <td>13789.0</td>\n",
       "      <td>13,80.1</td>\n",
       "      <td>Suburban</td>\n",
       "      <td>Divorced</td>\n",
       "      <td>79.0</td>\n",
       "      <td>...</td>\n",
       "      <td>49</td>\n",
       "      <td>0</td>\n",
       "      <td>1</td>\n",
       "      <td>Personal Auto</td>\n",
       "      <td>Personal L3</td>\n",
       "      <td>Offer4</td>\n",
       "      <td>Call Center</td>\n",
       "      <td>379.200000</td>\n",
       "      <td>Four-Door Car</td>\n",
       "      <td>Medsize</td>\n",
       "    </tr>\n",
       "  </tbody>\n",
       "</table>\n",
       "<p>5 rows × 21 columns</p>\n",
       "</div>"
      ],
      "text/plain": [
       "   CustomerID  Coverage Education EmploymentStatus Gender   Income  \\\n",
       "0          17     Basic  Bachelor         Employed      M  43836.0   \n",
       "1          19  Extended   College         Employed      F  28812.0   \n",
       "2          29   Premium    Master         Employed      M  77026.0   \n",
       "3          34     Basic  Bachelor         Employed      F  24599.0   \n",
       "4          37  Extended  Bachelor         Disabled      F  13789.0   \n",
       "\n",
       "  Location.Geo Location.Code Marital.Status  Monthly.Premium.Auto  ...  \\\n",
       "0    12.6,79.4         Rural         Single                  73.0  ...   \n",
       "1    17.3,78.4         Urban        Married                  93.0  ...   \n",
       "2    18.4,73.5         Urban        Married                 110.0  ...   \n",
       "3    17.1,78.2         Rural        Married                  64.0  ...   \n",
       "4      13,80.1      Suburban       Divorced                  79.0  ...   \n",
       "\n",
       "   Months.Since.Policy.Inception  Number.of.Open.Complaints  \\\n",
       "0                             44                          0   \n",
       "1                              7                          0   \n",
       "2                             82                          2   \n",
       "3                             50                          1   \n",
       "4                             49                          0   \n",
       "\n",
       "   Number.of.Policies     Policy.Type        Policy Renew.Offer.Type  \\\n",
       "0                   1   Personal Auto   Personal L1           Offer1   \n",
       "1                   8    Special Auto    Special L2           Offer2   \n",
       "2                   3  Corporate Auto  Corporate L1           Offer2   \n",
       "3                   2  Corporate Auto  Corporate L2           Offer2   \n",
       "4                   1   Personal Auto   Personal L3           Offer4   \n",
       "\n",
       "  Sales.Channel Total.Claim.Amount  Vehicle.Class Vehicle.Size  \n",
       "0         Agent         138.130879  Four-Door Car      Medsize  \n",
       "1        Branch         425.527834  Four-Door Car      Medsize  \n",
       "2         Agent         472.029737  Four-Door Car      Medsize  \n",
       "3        Branch          42.920271  Four-Door Car      Medsize  \n",
       "4   Call Center         379.200000  Four-Door Car      Medsize  \n",
       "\n",
       "[5 rows x 21 columns]"
      ]
     },
     "execution_count": 39,
     "metadata": {},
     "output_type": "execute_result"
    }
   ],
   "source": [
    "test=pd.read_csv(\"/kaggle/input/customer-life-time-value/test-1574429501088.csv\")\n",
    "test.head()"
   ]
  },
  {
   "cell_type": "markdown",
   "id": "30b364ac",
   "metadata": {
    "id": "7ABSYA4qrAGU",
    "papermill": {
     "duration": 0.017609,
     "end_time": "2023-02-06T12:19:02.328579",
     "exception": false,
     "start_time": "2023-02-06T12:19:02.310970",
     "status": "completed"
    },
    "tags": []
   },
   "source": [
    "EDA"
   ]
  },
  {
   "cell_type": "code",
   "execution_count": 40,
   "id": "c8e1806f",
   "metadata": {
    "execution": {
     "iopub.execute_input": "2023-02-06T12:19:02.365296Z",
     "iopub.status.busy": "2023-02-06T12:19:02.364684Z",
     "iopub.status.idle": "2023-02-06T12:19:02.368825Z",
     "shell.execute_reply": "2023-02-06T12:19:02.367959Z"
    },
    "papermill": {
     "duration": 0.024622,
     "end_time": "2023-02-06T12:19:02.370808",
     "exception": false,
     "start_time": "2023-02-06T12:19:02.346186",
     "status": "completed"
    },
    "tags": []
   },
   "outputs": [],
   "source": [
    "Id=test['CustomerID'].values"
   ]
  },
  {
   "cell_type": "code",
   "execution_count": 41,
   "id": "58b44c80",
   "metadata": {
    "execution": {
     "iopub.execute_input": "2023-02-06T12:19:02.407490Z",
     "iopub.status.busy": "2023-02-06T12:19:02.406897Z",
     "iopub.status.idle": "2023-02-06T12:19:02.413394Z",
     "shell.execute_reply": "2023-02-06T12:19:02.412533Z"
    },
    "papermill": {
     "duration": 0.026921,
     "end_time": "2023-02-06T12:19:02.415285",
     "exception": false,
     "start_time": "2023-02-06T12:19:02.388364",
     "status": "completed"
    },
    "tags": []
   },
   "outputs": [
    {
     "data": {
      "text/plain": [
       "CustomerID                         int64\n",
       "Coverage                          object\n",
       "Education                         object\n",
       "EmploymentStatus                  object\n",
       "Gender                            object\n",
       "Income                           float64\n",
       "Location.Geo                      object\n",
       "Location.Code                     object\n",
       "Marital.Status                    object\n",
       "Monthly.Premium.Auto             float64\n",
       "Months.Since.Last.Claim            int64\n",
       "Months.Since.Policy.Inception      int64\n",
       "Number.of.Open.Complaints          int64\n",
       "Number.of.Policies                 int64\n",
       "Policy.Type                       object\n",
       "Policy                            object\n",
       "Renew.Offer.Type                  object\n",
       "Sales.Channel                     object\n",
       "Total.Claim.Amount               float64\n",
       "Vehicle.Class                     object\n",
       "Vehicle.Size                      object\n",
       "dtype: object"
      ]
     },
     "execution_count": 41,
     "metadata": {},
     "output_type": "execute_result"
    }
   ],
   "source": [
    "test.dtypes"
   ]
  },
  {
   "cell_type": "code",
   "execution_count": 42,
   "id": "cec645e8",
   "metadata": {
    "execution": {
     "iopub.execute_input": "2023-02-06T12:19:02.452234Z",
     "iopub.status.busy": "2023-02-06T12:19:02.451497Z",
     "iopub.status.idle": "2023-02-06T12:19:02.456820Z",
     "shell.execute_reply": "2023-02-06T12:19:02.456001Z"
    },
    "id": "asP-b_z76v-1",
    "papermill": {
     "duration": 0.025812,
     "end_time": "2023-02-06T12:19:02.458745",
     "exception": false,
     "start_time": "2023-02-06T12:19:02.432933",
     "status": "completed"
    },
    "tags": []
   },
   "outputs": [],
   "source": [
    "test['Income']=test['Income'].replace('?', np.NaN)\n",
    "test['Income']=pd.to_numeric(test['Income'])"
   ]
  },
  {
   "cell_type": "code",
   "execution_count": 43,
   "id": "586d746a",
   "metadata": {
    "execution": {
     "iopub.execute_input": "2023-02-06T12:19:02.495911Z",
     "iopub.status.busy": "2023-02-06T12:19:02.495177Z",
     "iopub.status.idle": "2023-02-06T12:19:02.500400Z",
     "shell.execute_reply": "2023-02-06T12:19:02.499578Z"
    },
    "id": "7XmnCurZ7TfS",
    "papermill": {
     "duration": 0.025683,
     "end_time": "2023-02-06T12:19:02.502325",
     "exception": false,
     "start_time": "2023-02-06T12:19:02.476642",
     "status": "completed"
    },
    "tags": []
   },
   "outputs": [],
   "source": [
    "test=test.drop(['CustomerID','Location.Code','Location.Geo','Vehicle.Size'],axis=1)\n"
   ]
  },
  {
   "cell_type": "code",
   "execution_count": 44,
   "id": "f8b251de",
   "metadata": {
    "execution": {
     "iopub.execute_input": "2023-02-06T12:19:02.539267Z",
     "iopub.status.busy": "2023-02-06T12:19:02.538668Z",
     "iopub.status.idle": "2023-02-06T12:19:02.554077Z",
     "shell.execute_reply": "2023-02-06T12:19:02.553153Z"
    },
    "id": "Mf2nHvSv7p8-",
    "outputId": "672385b4-0329-4035-8f41-a0aa09965121",
    "papermill": {
     "duration": 0.035797,
     "end_time": "2023-02-06T12:19:02.555981",
     "exception": false,
     "start_time": "2023-02-06T12:19:02.520184",
     "status": "completed"
    },
    "tags": []
   },
   "outputs": [
    {
     "data": {
      "text/html": [
       "<div>\n",
       "<style scoped>\n",
       "    .dataframe tbody tr th:only-of-type {\n",
       "        vertical-align: middle;\n",
       "    }\n",
       "\n",
       "    .dataframe tbody tr th {\n",
       "        vertical-align: top;\n",
       "    }\n",
       "\n",
       "    .dataframe thead th {\n",
       "        text-align: right;\n",
       "    }\n",
       "</style>\n",
       "<table border=\"1\" class=\"dataframe\">\n",
       "  <thead>\n",
       "    <tr style=\"text-align: right;\">\n",
       "      <th></th>\n",
       "      <th>Income</th>\n",
       "      <th>Monthly.Premium.Auto</th>\n",
       "      <th>Months.Since.Last.Claim</th>\n",
       "      <th>Months.Since.Policy.Inception</th>\n",
       "      <th>Number.of.Open.Complaints</th>\n",
       "      <th>Number.of.Policies</th>\n",
       "      <th>Total.Claim.Amount</th>\n",
       "    </tr>\n",
       "  </thead>\n",
       "  <tbody>\n",
       "    <tr>\n",
       "      <th>0</th>\n",
       "      <td>0.0</td>\n",
       "      <td>67.0</td>\n",
       "      <td>2</td>\n",
       "      <td>33</td>\n",
       "      <td>0.379172</td>\n",
       "      <td>2.0</td>\n",
       "      <td>267.214383</td>\n",
       "    </tr>\n",
       "    <tr>\n",
       "      <th>1</th>\n",
       "      <td>63357.0</td>\n",
       "      <td>101.0</td>\n",
       "      <td>26</td>\n",
       "      <td>42</td>\n",
       "      <td>0.000000</td>\n",
       "      <td>5.0</td>\n",
       "      <td>565.508572</td>\n",
       "    </tr>\n",
       "    <tr>\n",
       "      <th>2</th>\n",
       "      <td>64125.0</td>\n",
       "      <td>108.0</td>\n",
       "      <td>3</td>\n",
       "      <td>44</td>\n",
       "      <td>0.000000</td>\n",
       "      <td>3.0</td>\n",
       "      <td>369.818708</td>\n",
       "    </tr>\n",
       "    <tr>\n",
       "      <th>3</th>\n",
       "      <td>67544.0</td>\n",
       "      <td>116.0</td>\n",
       "      <td>2</td>\n",
       "      <td>15</td>\n",
       "      <td>0.379172</td>\n",
       "      <td>3.0</td>\n",
       "      <td>556.800000</td>\n",
       "    </tr>\n",
       "    <tr>\n",
       "      <th>4</th>\n",
       "      <td>19651.0</td>\n",
       "      <td>72.0</td>\n",
       "      <td>3</td>\n",
       "      <td>68</td>\n",
       "      <td>0.000000</td>\n",
       "      <td>5.0</td>\n",
       "      <td>345.600000</td>\n",
       "    </tr>\n",
       "  </tbody>\n",
       "</table>\n",
       "</div>"
      ],
      "text/plain": [
       "    Income  Monthly.Premium.Auto  Months.Since.Last.Claim  \\\n",
       "0      0.0                  67.0                        2   \n",
       "1  63357.0                 101.0                       26   \n",
       "2  64125.0                 108.0                        3   \n",
       "3  67544.0                 116.0                        2   \n",
       "4  19651.0                  72.0                        3   \n",
       "\n",
       "   Months.Since.Policy.Inception  Number.of.Open.Complaints  \\\n",
       "0                             33                   0.379172   \n",
       "1                             42                   0.000000   \n",
       "2                             44                   0.000000   \n",
       "3                             15                   0.379172   \n",
       "4                             68                   0.000000   \n",
       "\n",
       "   Number.of.Policies  Total.Claim.Amount  \n",
       "0                 2.0          267.214383  \n",
       "1                 5.0          565.508572  \n",
       "2                 3.0          369.818708  \n",
       "3                 3.0          556.800000  \n",
       "4                 5.0          345.600000  "
      ]
     },
     "execution_count": 44,
     "metadata": {},
     "output_type": "execute_result"
    }
   ],
   "source": [
    "\n",
    "numeric_test=test._get_numeric_data()                             \n",
    "numeric.head()\n"
   ]
  },
  {
   "cell_type": "code",
   "execution_count": 45,
   "id": "052a6e16",
   "metadata": {
    "execution": {
     "iopub.execute_input": "2023-02-06T12:19:02.593834Z",
     "iopub.status.busy": "2023-02-06T12:19:02.592968Z",
     "iopub.status.idle": "2023-02-06T12:19:02.606473Z",
     "shell.execute_reply": "2023-02-06T12:19:02.605505Z"
    },
    "id": "xZtVxF16_O-o",
    "papermill": {
     "duration": 0.034381,
     "end_time": "2023-02-06T12:19:02.608490",
     "exception": false,
     "start_time": "2023-02-06T12:19:02.574109",
     "status": "completed"
    },
    "tags": []
   },
   "outputs": [
    {
     "data": {
      "text/plain": [
       "(1767, 10)"
      ]
     },
     "execution_count": 45,
     "metadata": {},
     "output_type": "execute_result"
    }
   ],
   "source": [
    "cat_test=test.drop(numeric,axis=1)\n",
    "cat_test=cat_test.astype('category')\n",
    "cat_test.shape"
   ]
  },
  {
   "cell_type": "code",
   "execution_count": 46,
   "id": "5205377b",
   "metadata": {
    "execution": {
     "iopub.execute_input": "2023-02-06T12:19:02.645753Z",
     "iopub.status.busy": "2023-02-06T12:19:02.645491Z",
     "iopub.status.idle": "2023-02-06T12:19:02.649613Z",
     "shell.execute_reply": "2023-02-06T12:19:02.648714Z"
    },
    "id": "rM9IEuQX7t-C",
    "papermill": {
     "duration": 0.02516,
     "end_time": "2023-02-06T12:19:02.651577",
     "exception": false,
     "start_time": "2023-02-06T12:19:02.626417",
     "status": "completed"
    },
    "tags": []
   },
   "outputs": [],
   "source": [
    "cat_cols_test=['Coverage', 'Education', 'EmploymentStatus', 'Gender', 'Marital.Status',\n",
    "       'Policy.Type', 'Policy', 'Renew.Offer.Type', 'Sales.Channel',\n",
    "       'Vehicle.Class']"
   ]
  },
  {
   "cell_type": "markdown",
   "id": "b346fc9b",
   "metadata": {
    "id": "mhfJ-OCwrIeS",
    "papermill": {
     "duration": 0.01791,
     "end_time": "2023-02-06T12:19:02.688045",
     "exception": false,
     "start_time": "2023-02-06T12:19:02.670135",
     "status": "completed"
    },
    "tags": []
   },
   "source": [
    "imputing num variable with mean"
   ]
  },
  {
   "cell_type": "code",
   "execution_count": 47,
   "id": "3ae07147",
   "metadata": {
    "execution": {
     "iopub.execute_input": "2023-02-06T12:19:02.725554Z",
     "iopub.status.busy": "2023-02-06T12:19:02.725305Z",
     "iopub.status.idle": "2023-02-06T12:19:02.732062Z",
     "shell.execute_reply": "2023-02-06T12:19:02.731296Z"
    },
    "id": "7sZCYRU49Yx6",
    "papermill": {
     "duration": 0.027835,
     "end_time": "2023-02-06T12:19:02.734095",
     "exception": false,
     "start_time": "2023-02-06T12:19:02.706260",
     "status": "completed"
    },
    "tags": []
   },
   "outputs": [],
   "source": [
    "numeric_test=numeric_test.fillna(numeric_test.mean())"
   ]
  },
  {
   "cell_type": "markdown",
   "id": "7a8cad6b",
   "metadata": {
    "id": "KNAZpvyJrMu6",
    "papermill": {
     "duration": 0.017796,
     "end_time": "2023-02-06T12:19:02.769912",
     "exception": false,
     "start_time": "2023-02-06T12:19:02.752116",
     "status": "completed"
    },
    "tags": []
   },
   "source": [
    "imputing cat variable with most_freqent"
   ]
  },
  {
   "cell_type": "code",
   "execution_count": 48,
   "id": "95060176",
   "metadata": {
    "execution": {
     "iopub.execute_input": "2023-02-06T12:19:02.808361Z",
     "iopub.status.busy": "2023-02-06T12:19:02.806853Z",
     "iopub.status.idle": "2023-02-06T12:19:02.821183Z",
     "shell.execute_reply": "2023-02-06T12:19:02.820370Z"
    },
    "id": "8dN6q3sR-K0W",
    "papermill": {
     "duration": 0.035002,
     "end_time": "2023-02-06T12:19:02.823109",
     "exception": false,
     "start_time": "2023-02-06T12:19:02.788107",
     "status": "completed"
    },
    "tags": []
   },
   "outputs": [],
   "source": [
    "#cat_train=cat_train.fillna(cat_train.mode())\n",
    "from sklearn.impute import SimpleImputer\n",
    "im=SimpleImputer(strategy='most_frequent')\n",
    "m=im.fit_transform(cat_test)"
   ]
  },
  {
   "cell_type": "markdown",
   "id": "960c282e",
   "metadata": {
    "id": "HJps9CgRrRQO",
    "papermill": {
     "duration": 0.01785,
     "end_time": "2023-02-06T12:19:02.858925",
     "exception": false,
     "start_time": "2023-02-06T12:19:02.841075",
     "status": "completed"
    },
    "tags": []
   },
   "source": [
    "converting cat variables to num variables"
   ]
  },
  {
   "cell_type": "code",
   "execution_count": 49,
   "id": "ba2f7758",
   "metadata": {
    "execution": {
     "iopub.execute_input": "2023-02-06T12:19:02.896979Z",
     "iopub.status.busy": "2023-02-06T12:19:02.896139Z",
     "iopub.status.idle": "2023-02-06T12:19:02.911233Z",
     "shell.execute_reply": "2023-02-06T12:19:02.910270Z"
    },
    "id": "_4W8ZmN2-nad",
    "outputId": "531b9c1d-23b8-4d7d-ff26-4a43fa99d438",
    "papermill": {
     "duration": 0.036003,
     "end_time": "2023-02-06T12:19:02.913264",
     "exception": false,
     "start_time": "2023-02-06T12:19:02.877261",
     "status": "completed"
    },
    "tags": []
   },
   "outputs": [
    {
     "data": {
      "text/plain": [
       "(1767, 44)"
      ]
     },
     "execution_count": 49,
     "metadata": {},
     "output_type": "execute_result"
    }
   ],
   "source": [
    "from sklearn.preprocessing import OneHotEncoder\n",
    "ohe = OneHotEncoder(sparse=True)\n",
    "\n",
    "result = ohe.fit_transform(cat_test).toarray()\n",
    "result.shape\n",
    "#print(ohe.categories_)\n",
    "#print(result)"
   ]
  },
  {
   "cell_type": "code",
   "execution_count": 50,
   "id": "c5685227",
   "metadata": {
    "execution": {
     "iopub.execute_input": "2023-02-06T12:19:02.950810Z",
     "iopub.status.busy": "2023-02-06T12:19:02.950539Z",
     "iopub.status.idle": "2023-02-06T12:19:02.956668Z",
     "shell.execute_reply": "2023-02-06T12:19:02.955783Z"
    },
    "id": "0vJCY9Uv-w7x",
    "outputId": "f41d81c4-305e-4b1c-85d3-1460a43c161f",
    "papermill": {
     "duration": 0.02721,
     "end_time": "2023-02-06T12:19:02.958595",
     "exception": false,
     "start_time": "2023-02-06T12:19:02.931385",
     "status": "completed"
    },
    "tags": []
   },
   "outputs": [
    {
     "data": {
      "text/plain": [
       "(1767, 44)"
      ]
     },
     "execution_count": 50,
     "metadata": {},
     "output_type": "execute_result"
    }
   ],
   "source": [
    "cat_test=pd.DataFrame(result,columns=ohe.get_feature_names_out())\n",
    "cat_test.shape"
   ]
  },
  {
   "cell_type": "code",
   "execution_count": 51,
   "id": "4db12ada",
   "metadata": {
    "execution": {
     "iopub.execute_input": "2023-02-06T12:19:02.995886Z",
     "iopub.status.busy": "2023-02-06T12:19:02.995630Z",
     "iopub.status.idle": "2023-02-06T12:19:03.002584Z",
     "shell.execute_reply": "2023-02-06T12:19:03.001654Z"
    },
    "id": "AhJGLOix-0oO",
    "outputId": "aab56592-b96d-4529-fd22-b5099a2732f1",
    "papermill": {
     "duration": 0.027854,
     "end_time": "2023-02-06T12:19:03.004528",
     "exception": false,
     "start_time": "2023-02-06T12:19:02.976674",
     "status": "completed"
    },
    "tags": []
   },
   "outputs": [
    {
     "data": {
      "text/plain": [
       "(1767, 51)"
      ]
     },
     "execution_count": 51,
     "metadata": {},
     "output_type": "execute_result"
    }
   ],
   "source": [
    "df=pd.concat([cat_test,numeric_test],axis=1)\n",
    "df.shape"
   ]
  },
  {
   "cell_type": "code",
   "execution_count": 52,
   "id": "6c05bba4",
   "metadata": {
    "execution": {
     "iopub.execute_input": "2023-02-06T12:19:03.043336Z",
     "iopub.status.busy": "2023-02-06T12:19:03.042727Z",
     "iopub.status.idle": "2023-02-06T12:19:03.048773Z",
     "shell.execute_reply": "2023-02-06T12:19:03.047907Z"
    },
    "papermill": {
     "duration": 0.027279,
     "end_time": "2023-02-06T12:19:03.050634",
     "exception": false,
     "start_time": "2023-02-06T12:19:03.023355",
     "status": "completed"
    },
    "tags": []
   },
   "outputs": [
    {
     "data": {
      "text/plain": [
       "Index(['Coverage_Basic', 'Coverage_Extended', 'Coverage_Premium',\n",
       "       'Education_Bachelor', 'Education_College', 'Education_Doctor',\n",
       "       'Education_High School or Below', 'Education_Master',\n",
       "       'EmploymentStatus_Disabled', 'EmploymentStatus_Employed',\n",
       "       'EmploymentStatus_Medical Leave', 'EmploymentStatus_Unemployed',\n",
       "       'Gender_F', 'Gender_M', 'Marital.Status_Divorced',\n",
       "       'Marital.Status_Married', 'Marital.Status_Single',\n",
       "       'Policy.Type_Corporate Auto', 'Policy.Type_Personal Auto',\n",
       "       'Policy.Type_Special Auto', 'Policy.Type_nan', 'Policy_Corporate L1',\n",
       "       'Policy_Corporate L2', 'Policy_Corporate L3', 'Policy_Personal L1',\n",
       "       'Policy_Personal L2', 'Policy_Personal L3', 'Policy_Special L1',\n",
       "       'Policy_Special L2', 'Policy_Special L3', 'Renew.Offer.Type_Offer1',\n",
       "       'Renew.Offer.Type_Offer2', 'Renew.Offer.Type_Offer3',\n",
       "       'Renew.Offer.Type_Offer4', 'Sales.Channel_Agent',\n",
       "       'Sales.Channel_Branch', 'Sales.Channel_Call Center',\n",
       "       'Sales.Channel_Web', 'Vehicle.Class_Four-Door Car',\n",
       "       'Vehicle.Class_Luxury Car', 'Vehicle.Class_Luxury SUV',\n",
       "       'Vehicle.Class_SUV', 'Vehicle.Class_Sports Car',\n",
       "       'Vehicle.Class_Two-Door Car', 'Income', 'Monthly.Premium.Auto',\n",
       "       'Months.Since.Last.Claim', 'Months.Since.Policy.Inception',\n",
       "       'Number.of.Open.Complaints', 'Number.of.Policies',\n",
       "       'Total.Claim.Amount'],\n",
       "      dtype='object')"
      ]
     },
     "execution_count": 52,
     "metadata": {},
     "output_type": "execute_result"
    }
   ],
   "source": [
    "df.columns"
   ]
  },
  {
   "cell_type": "code",
   "execution_count": 53,
   "id": "a743408a",
   "metadata": {
    "execution": {
     "iopub.execute_input": "2023-02-06T12:19:03.088963Z",
     "iopub.status.busy": "2023-02-06T12:19:03.088360Z",
     "iopub.status.idle": "2023-02-06T12:19:03.094541Z",
     "shell.execute_reply": "2023-02-06T12:19:03.093597Z"
    },
    "papermill": {
     "duration": 0.02729,
     "end_time": "2023-02-06T12:19:03.096431",
     "exception": false,
     "start_time": "2023-02-06T12:19:03.069141",
     "status": "completed"
    },
    "tags": []
   },
   "outputs": [
    {
     "data": {
      "text/plain": [
       "Index(['Coverage_Basic', 'Coverage_Extended', 'Coverage_Premium',\n",
       "       'Education_Bachelor', 'Education_College', 'Education_Doctor',\n",
       "       'Education_High School or Below', 'Education_Master',\n",
       "       'EmploymentStatus_Disabled', 'EmploymentStatus_Employed',\n",
       "       'EmploymentStatus_Medical Leave', 'EmploymentStatus_Retired',\n",
       "       'EmploymentStatus_Unemployed', 'Gender_F', 'Gender_M',\n",
       "       'Marital.Status_Divorced', 'Marital.Status_Married',\n",
       "       'Marital.Status_Single', 'Policy.Type_Corporate Auto',\n",
       "       'Policy.Type_Personal Auto', 'Policy.Type_Special Auto',\n",
       "       'Policy_Corporate L1', 'Policy_Corporate L2', 'Policy_Corporate L3',\n",
       "       'Policy_Personal L1', 'Policy_Personal L2', 'Policy_Personal L3',\n",
       "       'Policy_Special L1', 'Policy_Special L2', 'Policy_Special L3',\n",
       "       'Renew.Offer.Type_Offer1', 'Renew.Offer.Type_Offer2',\n",
       "       'Renew.Offer.Type_Offer3', 'Renew.Offer.Type_Offer4',\n",
       "       'Sales.Channel_Agent', 'Sales.Channel_Branch',\n",
       "       'Sales.Channel_Call Center', 'Sales.Channel_Web',\n",
       "       'Vehicle.Class_Four-Door Car', 'Vehicle.Class_Luxury Car',\n",
       "       'Vehicle.Class_Luxury SUV', 'Vehicle.Class_SUV',\n",
       "       'Vehicle.Class_Sports Car', 'Vehicle.Class_Two-Door Car', 'Income',\n",
       "       'Monthly.Premium.Auto', 'Months.Since.Last.Claim',\n",
       "       'Months.Since.Policy.Inception', 'Number.of.Open.Complaints',\n",
       "       'Number.of.Policies', 'Total.Claim.Amount'],\n",
       "      dtype='object')"
      ]
     },
     "execution_count": 53,
     "metadata": {},
     "output_type": "execute_result"
    }
   ],
   "source": [
    "x_train.columns"
   ]
  },
  {
   "cell_type": "code",
   "execution_count": 54,
   "id": "202e1a1a",
   "metadata": {
    "execution": {
     "iopub.execute_input": "2023-02-06T12:19:03.135708Z",
     "iopub.status.busy": "2023-02-06T12:19:03.134881Z",
     "iopub.status.idle": "2023-02-06T12:19:03.144909Z",
     "shell.execute_reply": "2023-02-06T12:19:03.143798Z"
    },
    "id": "Wsf80nkZ-97U",
    "outputId": "b92aa166-da85-47ba-cb1a-e7e666a786eb",
    "papermill": {
     "duration": 0.036739,
     "end_time": "2023-02-06T12:19:03.151853",
     "exception": false,
     "start_time": "2023-02-06T12:19:03.115114",
     "status": "completed"
    },
    "tags": []
   },
   "outputs": [
    {
     "name": "stderr",
     "output_type": "stream",
     "text": [
      "/opt/conda/lib/python3.7/site-packages/sklearn/base.py:493: FutureWarning: The feature names should match those that were passed during fit. Starting version 1.2, an error will be raised.\n",
      "Feature names unseen at fit time:\n",
      "- Policy.Type_nan\n",
      "Feature names seen at fit time, yet now missing:\n",
      "- EmploymentStatus_Retired\n",
      "\n",
      "  warnings.warn(message, FutureWarning)\n"
     ]
    }
   ],
   "source": [
    "test_perd=model.predict(df)"
   ]
  },
  {
   "cell_type": "code",
   "execution_count": 55,
   "id": "28d77a95",
   "metadata": {
    "execution": {
     "iopub.execute_input": "2023-02-06T12:19:03.249682Z",
     "iopub.status.busy": "2023-02-06T12:19:03.249429Z",
     "iopub.status.idle": "2023-02-06T12:19:03.261477Z",
     "shell.execute_reply": "2023-02-06T12:19:03.260430Z"
    },
    "id": "UnKIgkCn_ZYX",
    "outputId": "fc94bf7c-29c9-4da5-a9ce-03f888d978cc",
    "papermill": {
     "duration": 0.066666,
     "end_time": "2023-02-06T12:19:03.267029",
     "exception": false,
     "start_time": "2023-02-06T12:19:03.200363",
     "status": "completed"
    },
    "tags": []
   },
   "outputs": [
    {
     "name": "stderr",
     "output_type": "stream",
     "text": [
      "/opt/conda/lib/python3.7/site-packages/sklearn/base.py:493: FutureWarning: The feature names should match those that were passed during fit. Starting version 1.2, an error will be raised.\n",
      "Feature names unseen at fit time:\n",
      "- Policy.Type_nan\n",
      "Feature names seen at fit time, yet now missing:\n",
      "- EmploymentStatus_Retired\n",
      "\n",
      "  warnings.warn(message, FutureWarning)\n"
     ]
    }
   ],
   "source": [
    "test_perd_r=r.predict(df)"
   ]
  },
  {
   "cell_type": "code",
   "execution_count": 56,
   "id": "48f0135f",
   "metadata": {
    "execution": {
     "iopub.execute_input": "2023-02-06T12:19:03.365001Z",
     "iopub.status.busy": "2023-02-06T12:19:03.364577Z",
     "iopub.status.idle": "2023-02-06T12:19:03.385765Z",
     "shell.execute_reply": "2023-02-06T12:19:03.384553Z"
    },
    "id": "Hj4BvYI6RAKA",
    "papermill": {
     "duration": 0.07436,
     "end_time": "2023-02-06T12:19:03.389483",
     "exception": false,
     "start_time": "2023-02-06T12:19:03.315123",
     "status": "completed"
    },
    "tags": []
   },
   "outputs": [],
   "source": [
    "sub=pd.DataFrame({\"CustomerID\":Id,'Customer.Lifetime.Value':test_perd_r})\n",
    "sub.to_csv(\"submission1.csv\",index=False)\n"
   ]
  },
  {
   "cell_type": "code",
   "execution_count": 57,
   "id": "3faf1791",
   "metadata": {
    "execution": {
     "iopub.execute_input": "2023-02-06T12:19:03.430805Z",
     "iopub.status.busy": "2023-02-06T12:19:03.429984Z",
     "iopub.status.idle": "2023-02-06T12:19:03.750215Z",
     "shell.execute_reply": "2023-02-06T12:19:03.749200Z"
    },
    "id": "kirbEl3OglN9",
    "papermill": {
     "duration": 0.342169,
     "end_time": "2023-02-06T12:19:03.752579",
     "exception": false,
     "start_time": "2023-02-06T12:19:03.410410",
     "status": "completed"
    },
    "tags": []
   },
   "outputs": [
    {
     "name": "stderr",
     "output_type": "stream",
     "text": [
      "/opt/conda/lib/python3.7/site-packages/sklearn/base.py:493: FutureWarning: The feature names should match those that were passed during fit. Starting version 1.2, an error will be raised.\n",
      "Feature names unseen at fit time:\n",
      "- Policy.Type_nan\n",
      "Feature names seen at fit time, yet now missing:\n",
      "- EmploymentStatus_Retired\n",
      "\n",
      "  warnings.warn(message, FutureWarning)\n"
     ]
    }
   ],
   "source": [
    "k_predtrain=k.predict(df)"
   ]
  },
  {
   "cell_type": "markdown",
   "id": "b4822e0d",
   "metadata": {
    "id": "uVuBA23-rbye",
    "papermill": {
     "duration": 0.032908,
     "end_time": "2023-02-06T12:19:03.820814",
     "exception": false,
     "start_time": "2023-02-06T12:19:03.787906",
     "status": "completed"
    },
    "tags": []
   },
   "source": [
    "Clustering\n"
   ]
  },
  {
   "cell_type": "code",
   "execution_count": 58,
   "id": "705a0bb8",
   "metadata": {
    "execution": {
     "iopub.execute_input": "2023-02-06T12:19:03.885256Z",
     "iopub.status.busy": "2023-02-06T12:19:03.884308Z",
     "iopub.status.idle": "2023-02-06T12:19:03.937787Z",
     "shell.execute_reply": "2023-02-06T12:19:03.936878Z"
    },
    "id": "ol02x9PASUo_",
    "papermill": {
     "duration": 0.087672,
     "end_time": "2023-02-06T12:19:03.940003",
     "exception": false,
     "start_time": "2023-02-06T12:19:03.852331",
     "status": "completed"
    },
    "tags": []
   },
   "outputs": [],
   "source": [
    "from sklearn.cluster import  KMeans"
   ]
  },
  {
   "cell_type": "markdown",
   "id": "7be2806e",
   "metadata": {
    "id": "h41VmyJrreq4",
    "papermill": {
     "duration": 0.027533,
     "end_time": "2023-02-06T12:19:03.995640",
     "exception": false,
     "start_time": "2023-02-06T12:19:03.968107",
     "status": "completed"
    },
    "tags": []
   },
   "source": [
    "standertizing the daa"
   ]
  },
  {
   "cell_type": "code",
   "execution_count": 59,
   "id": "f7522741",
   "metadata": {
    "execution": {
     "iopub.execute_input": "2023-02-06T12:19:04.053144Z",
     "iopub.status.busy": "2023-02-06T12:19:04.052774Z",
     "iopub.status.idle": "2023-02-06T12:19:04.071988Z",
     "shell.execute_reply": "2023-02-06T12:19:04.071067Z"
    },
    "id": "_rkbAVGXTRw1",
    "papermill": {
     "duration": 0.050526,
     "end_time": "2023-02-06T12:19:04.074256",
     "exception": false,
     "start_time": "2023-02-06T12:19:04.023730",
     "status": "completed"
    },
    "tags": []
   },
   "outputs": [],
   "source": [
    "from sklearn.preprocessing import StandardScaler\n",
    "sd = StandardScaler().fit_transform(x)\n",
    "sd\n",
    "train_std=pd.DataFrame(sd,columns=list(x.columns))"
   ]
  },
  {
   "cell_type": "code",
   "execution_count": 60,
   "id": "6bef1066",
   "metadata": {
    "execution": {
     "iopub.execute_input": "2023-02-06T12:19:04.138087Z",
     "iopub.status.busy": "2023-02-06T12:19:04.137692Z",
     "iopub.status.idle": "2023-02-06T12:19:05.114235Z",
     "shell.execute_reply": "2023-02-06T12:19:05.113124Z"
    },
    "id": "nSyOgSzGSIsp",
    "outputId": "4ea04c1a-535c-4db0-bcf2-72104b3f747a",
    "papermill": {
     "duration": 1.012633,
     "end_time": "2023-02-06T12:19:05.116648",
     "exception": false,
     "start_time": "2023-02-06T12:19:04.104015",
     "status": "completed"
    },
    "tags": []
   },
   "outputs": [
    {
     "data": {
      "text/plain": [
       "KMeans(n_clusters=5, random_state=1234)"
      ]
     },
     "execution_count": 60,
     "metadata": {},
     "output_type": "execute_result"
    }
   ],
   "source": [
    "\n",
    "kmeans_object = KMeans(n_clusters=5,random_state=1234)\n",
    "kmeans_object.fit(train_std)\n"
   ]
  },
  {
   "cell_type": "code",
   "execution_count": 61,
   "id": "a2f6a12a",
   "metadata": {
    "execution": {
     "iopub.execute_input": "2023-02-06T12:19:05.192191Z",
     "iopub.status.busy": "2023-02-06T12:19:05.191886Z",
     "iopub.status.idle": "2023-02-06T12:19:05.288929Z",
     "shell.execute_reply": "2023-02-06T12:19:05.286545Z"
    },
    "id": "U3JHgTpPTl6P",
    "papermill": {
     "duration": 0.135589,
     "end_time": "2023-02-06T12:19:05.295940",
     "exception": false,
     "start_time": "2023-02-06T12:19:05.160351",
     "status": "completed"
    },
    "tags": []
   },
   "outputs": [],
   "source": [
    "kmeans_clusters = kmeans_object.predict(train_std\n",
    "                                        )"
   ]
  },
  {
   "cell_type": "markdown",
   "id": "f9ef2520",
   "metadata": {
    "id": "h8uy3mxprlVw",
    "papermill": {
     "duration": 0.035497,
     "end_time": "2023-02-06T12:19:05.409436",
     "exception": false,
     "start_time": "2023-02-06T12:19:05.373939",
     "status": "completed"
    },
    "tags": []
   },
   "source": [
    "ploting Elbow method to recognize no.of clusters"
   ]
  },
  {
   "cell_type": "code",
   "execution_count": 62,
   "id": "5d47f054",
   "metadata": {
    "execution": {
     "iopub.execute_input": "2023-02-06T12:19:05.448806Z",
     "iopub.status.busy": "2023-02-06T12:19:05.448487Z",
     "iopub.status.idle": "2023-02-06T12:19:13.863159Z",
     "shell.execute_reply": "2023-02-06T12:19:13.862275Z"
    },
    "id": "aGEMAm9bXn1n",
    "outputId": "d5effa65-c537-4525-f736-6a35864de704",
    "papermill": {
     "duration": 8.43706,
     "end_time": "2023-02-06T12:19:13.865492",
     "exception": false,
     "start_time": "2023-02-06T12:19:05.428432",
     "status": "completed"
    },
    "tags": []
   },
   "outputs": [
    {
     "data": {
      "image/png": "[encoded data removed]",
      "text/plain": [
       "<Figure size 432x288 with 1 Axes>"
      ]
     },
     "metadata": {
      "needs_background": "light"
     },
     "output_type": "display_data"
    }
   ],
   "source": [
    "cs = []\n",
    "for i in range(1, 11):\n",
    "    kmeans = KMeans(n_clusters = i, init = 'k-means++', max_iter = 300, n_init = 10, random_state =123)\n",
    "    kmeans.fit(train_std)\n",
    "    cs.append(kmeans.inertia_)\n",
    "plt.plot(range(1, 11), cs)\n",
    "plt.title('The Elbow Method')\n",
    "plt.xlabel('Number of clusters')\n",
    "plt.ylabel('CS')\n",
    "plt.show()"
   ]
  },
  {
   "cell_type": "code",
   "execution_count": 63,
   "id": "d0171428",
   "metadata": {
    "execution": {
     "iopub.execute_input": "2023-02-06T12:19:13.906163Z",
     "iopub.status.busy": "2023-02-06T12:19:13.905853Z",
     "iopub.status.idle": "2023-02-06T12:19:13.910433Z",
     "shell.execute_reply": "2023-02-06T12:19:13.909466Z"
    },
    "id": "Y5pyUNV0YHj6",
    "papermill": {
     "duration": 0.027273,
     "end_time": "2023-02-06T12:19:13.912624",
     "exception": false,
     "start_time": "2023-02-06T12:19:13.885351",
     "status": "completed"
    },
    "tags": []
   },
   "outputs": [],
   "source": [
    "best_kmeans = KMeans(n_clusters=7,random_state=1234)"
   ]
  },
  {
   "cell_type": "code",
   "execution_count": 64,
   "id": "8808223e",
   "metadata": {
    "execution": {
     "iopub.execute_input": "2023-02-06T12:19:13.951889Z",
     "iopub.status.busy": "2023-02-06T12:19:13.951619Z",
     "iopub.status.idle": "2023-02-06T12:19:15.462858Z",
     "shell.execute_reply": "2023-02-06T12:19:15.461885Z"
    },
    "id": "nyl9MpOMadYM",
    "papermill": {
     "duration": 1.534804,
     "end_time": "2023-02-06T12:19:15.466543",
     "exception": false,
     "start_time": "2023-02-06T12:19:13.931739",
     "status": "completed"
    },
    "tags": []
   },
   "outputs": [
    {
     "data": {
      "text/plain": [
       "KMeans(n_clusters=7, random_state=1234)"
      ]
     },
     "execution_count": 64,
     "metadata": {},
     "output_type": "execute_result"
    }
   ],
   "source": [
    "best_kmeans.fit(train_std)\n"
   ]
  },
  {
   "cell_type": "code",
   "execution_count": 65,
   "id": "5252d74a",
   "metadata": {
    "execution": {
     "iopub.execute_input": "2023-02-06T12:19:15.527687Z",
     "iopub.status.busy": "2023-02-06T12:19:15.527386Z",
     "iopub.status.idle": "2023-02-06T12:19:15.539819Z",
     "shell.execute_reply": "2023-02-06T12:19:15.539170Z"
    },
    "id": "-yx1JgyOadGG",
    "papermill": {
     "duration": 0.034547,
     "end_time": "2023-02-06T12:19:15.541881",
     "exception": false,
     "start_time": "2023-02-06T12:19:15.507334",
     "status": "completed"
    },
    "tags": []
   },
   "outputs": [
    {
     "data": {
      "text/plain": [
       "array([1, 3, 3, ..., 0, 5, 2], dtype=int32)"
      ]
     },
     "execution_count": 65,
     "metadata": {},
     "output_type": "execute_result"
    }
   ],
   "source": [
    "best_kmeans_labels = best_kmeans.predict(train_std)\n",
    "best_kmeans_labels"
   ]
  },
  {
   "cell_type": "markdown",
   "id": "817ac60d",
   "metadata": {
    "id": "8Hn0iotqb6Ee",
    "papermill": {
     "duration": 0.018992,
     "end_time": "2023-02-06T12:19:15.581518",
     "exception": false,
     "start_time": "2023-02-06T12:19:15.562526",
     "status": "completed"
    },
    "tags": []
   },
   "source": []
  },
  {
   "cell_type": "code",
   "execution_count": null,
   "id": "00dbbfb2",
   "metadata": {
    "id": "IK0IefmgabHE",
    "papermill": {
     "duration": 0.019558,
     "end_time": "2023-02-06T12:19:15.620328",
     "exception": false,
     "start_time": "2023-02-06T12:19:15.600770",
     "status": "completed"
    },
    "tags": []
   },
   "outputs": [],
   "source": []
  }
 ],
 "metadata": {
  "kernelspec": {
   "display_name": "Python 3",
   "language": "python",
   "name": "python3"
  },
  "language_info": {
   "codemirror_mode": {
    "name": "ipython",
    "version": 3
   },
   "file_extension": ".py",
   "mimetype": "text/x-python",
   "name": "python",
   "nbconvert_exporter": "python",
   "pygments_lexer": "ipython3",
   "version": "3.7.12"
  },
  "papermill": {
   "default_parameters": {},
   "duration": 33.459995,
   "end_time": "2023-02-06T12:19:16.258869",
   "environment_variables": {},
   "exception": null,
   "input_path": "__notebook__.ipynb",
   "output_path": "__notebook__.ipynb",
   "parameters": {},
   "start_time": "2023-02-06T12:18:42.798874",
   "version": "2.3.4"
  }
 },
 "nbformat": 4,
 "nbformat_minor": 5
}
